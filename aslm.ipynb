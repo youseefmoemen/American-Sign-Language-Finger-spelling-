{
 "cells": [
  {
   "cell_type": "code",
   "execution_count": 1,
   "id": "10260041",
   "metadata": {
    "_cell_guid": "b1076dfc-b9ad-4769-8c92-a6c4dae69d19",
    "_uuid": "8f2839f25d086af736a60e9eeb907d3b93b6e0e5",
    "execution": {
     "iopub.execute_input": "2023-08-14T00:58:56.964833Z",
     "iopub.status.busy": "2023-08-14T00:58:56.964066Z",
     "iopub.status.idle": "2023-08-14T00:59:04.932324Z",
     "shell.execute_reply": "2023-08-14T00:59:04.931345Z"
    },
    "papermill": {
     "duration": 7.985388,
     "end_time": "2023-08-14T00:59:04.934837",
     "exception": false,
     "start_time": "2023-08-14T00:58:56.949449",
     "status": "completed"
    },
    "tags": []
   },
   "outputs": [
    {
     "name": "stderr",
     "output_type": "stream",
     "text": [
      "/opt/conda/lib/python3.10/site-packages/scipy/__init__.py:146: UserWarning: A NumPy version >=1.16.5 and <1.23.0 is required for this version of SciPy (detected version 1.23.5\n",
      "  warnings.warn(f\"A NumPy version >={np_minversion} and <{np_maxversion}\"\n",
      "/opt/conda/lib/python3.10/site-packages/tensorflow_io/python/ops/__init__.py:98: UserWarning: unable to load libtensorflow_io_plugins.so: unable to open file: libtensorflow_io_plugins.so, from paths: ['/opt/conda/lib/python3.10/site-packages/tensorflow_io/python/ops/libtensorflow_io_plugins.so']\n",
      "caused by: ['/opt/conda/lib/python3.10/site-packages/tensorflow_io/python/ops/libtensorflow_io_plugins.so: undefined symbol: _ZN3tsl6StatusC1EN10tensorflow5error4CodeESt17basic_string_viewIcSt11char_traitsIcEENS_14SourceLocationE']\n",
      "  warnings.warn(f\"unable to load libtensorflow_io_plugins.so: {e}\")\n",
      "/opt/conda/lib/python3.10/site-packages/tensorflow_io/python/ops/__init__.py:104: UserWarning: file system plugins are not loaded: unable to open file: libtensorflow_io.so, from paths: ['/opt/conda/lib/python3.10/site-packages/tensorflow_io/python/ops/libtensorflow_io.so']\n",
      "caused by: ['/opt/conda/lib/python3.10/site-packages/tensorflow_io/python/ops/libtensorflow_io.so: undefined symbol: _ZTVN10tensorflow13GcsFileSystemE']\n",
      "  warnings.warn(f\"file system plugins are not loaded: {e}\")\n",
      "/opt/conda/lib/python3.10/site-packages/tensorflow_addons/utils/tfa_eol_msg.py:23: UserWarning: \n",
      "\n",
      "TensorFlow Addons (TFA) has ended development and introduction of new features.\n",
      "TFA has entered a minimal maintenance and release mode until a planned end of life in May 2024.\n",
      "Please modify downstream libraries to take dependencies from other repositories in our TensorFlow community (e.g. Keras, Keras-CV, and Keras-NLP). \n",
      "\n",
      "For more information see: https://github.com/tensorflow/addons/issues/2807 \n",
      "\n",
      "  warnings.warn(\n"
     ]
    }
   ],
   "source": [
    "import numpy as np\n",
    "import pandas as pd\n",
    "import json \n",
    "import os\n",
    "import shutil\n",
    "from tqdm import tqdm\n",
    "import pyarrow.parquet as pq\n",
    "import tensorflow as tf\n",
    "import tensorflow_addons as tfa\n",
    "from tensorflow import keras\n",
    "import math\n",
    "import matplotlib.pyplot as plt\n",
    "tf.random.set_seed(42)\n",
    "np.random.seed(42)"
   ]
  },
  {
   "cell_type": "code",
   "execution_count": 2,
   "id": "7e4ce9c2",
   "metadata": {
    "execution": {
     "iopub.execute_input": "2023-08-14T00:59:04.963409Z",
     "iopub.status.busy": "2023-08-14T00:59:04.961320Z",
     "iopub.status.idle": "2023-08-14T00:59:04.971588Z",
     "shell.execute_reply": "2023-08-14T00:59:04.970736Z"
    },
    "papermill": {
     "duration": 0.025653,
     "end_time": "2023-08-14T00:59:04.973638",
     "exception": false,
     "start_time": "2023-08-14T00:59:04.947985",
     "status": "completed"
    },
    "tags": []
   },
   "outputs": [],
   "source": [
    "with open('/kaggle/input/asl-fingerspelling/character_to_prediction_index.json') as file:\n",
    "    char_to_num = json.load(file)\n",
    "    \n",
    "        \n",
    "PAD = 'P'\n",
    "SOS = '<'\n",
    "EOS = '>'\n",
    "dict_size = len(char_to_num)\n",
    "char_to_num[PAD] = dict_size\n",
    "char_to_num[SOS] = dict_size + 1\n",
    "char_to_num[EOS] = dict_size + 2\n",
    "num_to_char = {j:i for i, j in char_to_num.items()}"
   ]
  },
  {
   "cell_type": "code",
   "execution_count": 3,
   "id": "ad323ee5",
   "metadata": {
    "execution": {
     "iopub.execute_input": "2023-08-14T00:59:04.999417Z",
     "iopub.status.busy": "2023-08-14T00:59:04.999155Z",
     "iopub.status.idle": "2023-08-14T00:59:05.005779Z",
     "shell.execute_reply": "2023-08-14T00:59:05.004976Z"
    },
    "papermill": {
     "duration": 0.021755,
     "end_time": "2023-08-14T00:59:05.007822",
     "exception": false,
     "start_time": "2023-08-14T00:59:04.986067",
     "status": "completed"
    },
    "tags": []
   },
   "outputs": [],
   "source": [
    "DEBUG = False\n",
    "batch_size = 64\n",
    "layer_norm_eps = 1e-6\n",
    "n_attention_heads = 4\n",
    "# model_dimension = 512\n",
    "dropout_ratio = 0.1\n",
    "feed_forward_expand_ratio = 2\n",
    "encoder_embedding_dim = 384\n",
    "decoder_embedding_dim = 256\n",
    "seed = 42\n",
    "vocab_size = len(char_to_num)\n",
    "max_src_length = 128\n",
    "max_tgt_length = 32\n",
    "n_encoders = 4\n",
    "n_decoders = 2\n",
    "embedding_dropout = 0.0\n",
    "feed_dropout = 0.30\n",
    "mha_dropout = 0.2\n",
    "classfier_dropout = 0.10"
   ]
  },
  {
   "cell_type": "code",
   "execution_count": 4,
   "id": "103de019",
   "metadata": {
    "execution": {
     "iopub.execute_input": "2023-08-14T00:59:05.033904Z",
     "iopub.status.busy": "2023-08-14T00:59:05.033175Z",
     "iopub.status.idle": "2023-08-14T00:59:05.042138Z",
     "shell.execute_reply": "2023-08-14T00:59:05.041046Z"
    },
    "papermill": {
     "duration": 0.024106,
     "end_time": "2023-08-14T00:59:05.044108",
     "exception": false,
     "start_time": "2023-08-14T00:59:05.020002",
     "status": "completed"
    },
    "tags": []
   },
   "outputs": [
    {
     "data": {
      "text/plain": [
       "{' ': 0,\n",
       " '!': 1,\n",
       " '#': 2,\n",
       " '$': 3,\n",
       " '%': 4,\n",
       " '&': 5,\n",
       " \"'\": 6,\n",
       " '(': 7,\n",
       " ')': 8,\n",
       " '*': 9,\n",
       " '+': 10,\n",
       " ',': 11,\n",
       " '-': 12,\n",
       " '.': 13,\n",
       " '/': 14,\n",
       " '0': 15,\n",
       " '1': 16,\n",
       " '2': 17,\n",
       " '3': 18,\n",
       " '4': 19,\n",
       " '5': 20,\n",
       " '6': 21,\n",
       " '7': 22,\n",
       " '8': 23,\n",
       " '9': 24,\n",
       " ':': 25,\n",
       " ';': 26,\n",
       " '=': 27,\n",
       " '?': 28,\n",
       " '@': 29,\n",
       " '[': 30,\n",
       " '_': 31,\n",
       " 'a': 32,\n",
       " 'b': 33,\n",
       " 'c': 34,\n",
       " 'd': 35,\n",
       " 'e': 36,\n",
       " 'f': 37,\n",
       " 'g': 38,\n",
       " 'h': 39,\n",
       " 'i': 40,\n",
       " 'j': 41,\n",
       " 'k': 42,\n",
       " 'l': 43,\n",
       " 'm': 44,\n",
       " 'n': 45,\n",
       " 'o': 46,\n",
       " 'p': 47,\n",
       " 'q': 48,\n",
       " 'r': 49,\n",
       " 's': 50,\n",
       " 't': 51,\n",
       " 'u': 52,\n",
       " 'v': 53,\n",
       " 'w': 54,\n",
       " 'x': 55,\n",
       " 'y': 56,\n",
       " 'z': 57,\n",
       " '~': 58,\n",
       " 'P': 59,\n",
       " '<': 60,\n",
       " '>': 61}"
      ]
     },
     "execution_count": 4,
     "metadata": {},
     "output_type": "execute_result"
    }
   ],
   "source": [
    "char_to_num"
   ]
  },
  {
   "cell_type": "code",
   "execution_count": 5,
   "id": "20f4ab86",
   "metadata": {
    "execution": {
     "iopub.execute_input": "2023-08-14T00:59:05.070411Z",
     "iopub.status.busy": "2023-08-14T00:59:05.070157Z",
     "iopub.status.idle": "2023-08-14T00:59:05.211123Z",
     "shell.execute_reply": "2023-08-14T00:59:05.210149Z"
    },
    "papermill": {
     "duration": 0.157192,
     "end_time": "2023-08-14T00:59:05.213659",
     "exception": false,
     "start_time": "2023-08-14T00:59:05.056467",
     "status": "completed"
    },
    "tags": []
   },
   "outputs": [],
   "source": [
    "train_csv = pd.read_csv('/kaggle/input/asl-fingerspelling/train.csv')\n",
    "if DEBUG:\n",
    "    train_csv = train_csv[:5000]"
   ]
  },
  {
   "cell_type": "code",
   "execution_count": 6,
   "id": "09711f4a",
   "metadata": {
    "execution": {
     "iopub.execute_input": "2023-08-14T00:59:05.240949Z",
     "iopub.status.busy": "2023-08-14T00:59:05.240261Z",
     "iopub.status.idle": "2023-08-14T00:59:05.255730Z",
     "shell.execute_reply": "2023-08-14T00:59:05.254572Z"
    },
    "papermill": {
     "duration": 0.031678,
     "end_time": "2023-08-14T00:59:05.258275",
     "exception": false,
     "start_time": "2023-08-14T00:59:05.226597",
     "status": "completed"
    },
    "tags": []
   },
   "outputs": [
    {
     "data": {
      "text/html": [
       "<div>\n",
       "<style scoped>\n",
       "    .dataframe tbody tr th:only-of-type {\n",
       "        vertical-align: middle;\n",
       "    }\n",
       "\n",
       "    .dataframe tbody tr th {\n",
       "        vertical-align: top;\n",
       "    }\n",
       "\n",
       "    .dataframe thead th {\n",
       "        text-align: right;\n",
       "    }\n",
       "</style>\n",
       "<table border=\"1\" class=\"dataframe\">\n",
       "  <thead>\n",
       "    <tr style=\"text-align: right;\">\n",
       "      <th></th>\n",
       "      <th>path</th>\n",
       "      <th>file_id</th>\n",
       "      <th>sequence_id</th>\n",
       "      <th>participant_id</th>\n",
       "      <th>phrase</th>\n",
       "    </tr>\n",
       "  </thead>\n",
       "  <tbody>\n",
       "    <tr>\n",
       "      <th>0</th>\n",
       "      <td>train_landmarks/5414471.parquet</td>\n",
       "      <td>5414471</td>\n",
       "      <td>1816796431</td>\n",
       "      <td>217</td>\n",
       "      <td>3 creekhouse</td>\n",
       "    </tr>\n",
       "    <tr>\n",
       "      <th>1</th>\n",
       "      <td>train_landmarks/5414471.parquet</td>\n",
       "      <td>5414471</td>\n",
       "      <td>1816825349</td>\n",
       "      <td>107</td>\n",
       "      <td>scales/kuhaylah</td>\n",
       "    </tr>\n",
       "    <tr>\n",
       "      <th>2</th>\n",
       "      <td>train_landmarks/5414471.parquet</td>\n",
       "      <td>5414471</td>\n",
       "      <td>1816909464</td>\n",
       "      <td>1</td>\n",
       "      <td>1383 william lanier</td>\n",
       "    </tr>\n",
       "    <tr>\n",
       "      <th>3</th>\n",
       "      <td>train_landmarks/5414471.parquet</td>\n",
       "      <td>5414471</td>\n",
       "      <td>1816967051</td>\n",
       "      <td>63</td>\n",
       "      <td>988 franklin lane</td>\n",
       "    </tr>\n",
       "    <tr>\n",
       "      <th>4</th>\n",
       "      <td>train_landmarks/5414471.parquet</td>\n",
       "      <td>5414471</td>\n",
       "      <td>1817123330</td>\n",
       "      <td>89</td>\n",
       "      <td>6920 northeast 661st road</td>\n",
       "    </tr>\n",
       "  </tbody>\n",
       "</table>\n",
       "</div>"
      ],
      "text/plain": [
       "                              path  file_id  sequence_id  participant_id  \\\n",
       "0  train_landmarks/5414471.parquet  5414471   1816796431             217   \n",
       "1  train_landmarks/5414471.parquet  5414471   1816825349             107   \n",
       "2  train_landmarks/5414471.parquet  5414471   1816909464               1   \n",
       "3  train_landmarks/5414471.parquet  5414471   1816967051              63   \n",
       "4  train_landmarks/5414471.parquet  5414471   1817123330              89   \n",
       "\n",
       "                      phrase  \n",
       "0               3 creekhouse  \n",
       "1            scales/kuhaylah  \n",
       "2        1383 william lanier  \n",
       "3          988 franklin lane  \n",
       "4  6920 northeast 661st road  "
      ]
     },
     "execution_count": 6,
     "metadata": {},
     "output_type": "execute_result"
    }
   ],
   "source": [
    "train_csv.head()"
   ]
  },
  {
   "cell_type": "code",
   "execution_count": 7,
   "id": "e0f10c8a",
   "metadata": {
    "execution": {
     "iopub.execute_input": "2023-08-14T00:59:05.285461Z",
     "iopub.status.busy": "2023-08-14T00:59:05.285199Z",
     "iopub.status.idle": "2023-08-14T00:59:21.707852Z",
     "shell.execute_reply": "2023-08-14T00:59:21.706820Z"
    },
    "papermill": {
     "duration": 16.439186,
     "end_time": "2023-08-14T00:59:21.710493",
     "exception": false,
     "start_time": "2023-08-14T00:59:05.271307",
     "status": "completed"
    },
    "tags": []
   },
   "outputs": [],
   "source": [
    "sample_pq = pd.read_parquet('/kaggle/input/asl-fingerspelling/'+train_csv.iloc[0, 0])"
   ]
  },
  {
   "cell_type": "code",
   "execution_count": 8,
   "id": "ff199019",
   "metadata": {
    "execution": {
     "iopub.execute_input": "2023-08-14T00:59:21.738251Z",
     "iopub.status.busy": "2023-08-14T00:59:21.737914Z",
     "iopub.status.idle": "2023-08-14T00:59:21.767069Z",
     "shell.execute_reply": "2023-08-14T00:59:21.766032Z"
    },
    "papermill": {
     "duration": 0.045935,
     "end_time": "2023-08-14T00:59:21.769852",
     "exception": false,
     "start_time": "2023-08-14T00:59:21.723917",
     "status": "completed"
    },
    "tags": []
   },
   "outputs": [
    {
     "data": {
      "text/html": [
       "<div>\n",
       "<style scoped>\n",
       "    .dataframe tbody tr th:only-of-type {\n",
       "        vertical-align: middle;\n",
       "    }\n",
       "\n",
       "    .dataframe tbody tr th {\n",
       "        vertical-align: top;\n",
       "    }\n",
       "\n",
       "    .dataframe thead th {\n",
       "        text-align: right;\n",
       "    }\n",
       "</style>\n",
       "<table border=\"1\" class=\"dataframe\">\n",
       "  <thead>\n",
       "    <tr style=\"text-align: right;\">\n",
       "      <th></th>\n",
       "      <th>frame</th>\n",
       "      <th>x_face_0</th>\n",
       "      <th>x_face_1</th>\n",
       "      <th>x_face_2</th>\n",
       "      <th>x_face_3</th>\n",
       "      <th>x_face_4</th>\n",
       "      <th>x_face_5</th>\n",
       "      <th>x_face_6</th>\n",
       "      <th>x_face_7</th>\n",
       "      <th>x_face_8</th>\n",
       "      <th>...</th>\n",
       "      <th>z_right_hand_11</th>\n",
       "      <th>z_right_hand_12</th>\n",
       "      <th>z_right_hand_13</th>\n",
       "      <th>z_right_hand_14</th>\n",
       "      <th>z_right_hand_15</th>\n",
       "      <th>z_right_hand_16</th>\n",
       "      <th>z_right_hand_17</th>\n",
       "      <th>z_right_hand_18</th>\n",
       "      <th>z_right_hand_19</th>\n",
       "      <th>z_right_hand_20</th>\n",
       "    </tr>\n",
       "    <tr>\n",
       "      <th>sequence_id</th>\n",
       "      <th></th>\n",
       "      <th></th>\n",
       "      <th></th>\n",
       "      <th></th>\n",
       "      <th></th>\n",
       "      <th></th>\n",
       "      <th></th>\n",
       "      <th></th>\n",
       "      <th></th>\n",
       "      <th></th>\n",
       "      <th></th>\n",
       "      <th></th>\n",
       "      <th></th>\n",
       "      <th></th>\n",
       "      <th></th>\n",
       "      <th></th>\n",
       "      <th></th>\n",
       "      <th></th>\n",
       "      <th></th>\n",
       "      <th></th>\n",
       "      <th></th>\n",
       "    </tr>\n",
       "  </thead>\n",
       "  <tbody>\n",
       "    <tr>\n",
       "      <th>1816796431</th>\n",
       "      <td>0</td>\n",
       "      <td>0.710588</td>\n",
       "      <td>0.699951</td>\n",
       "      <td>0.705657</td>\n",
       "      <td>0.691768</td>\n",
       "      <td>0.699669</td>\n",
       "      <td>0.701980</td>\n",
       "      <td>0.709724</td>\n",
       "      <td>0.610405</td>\n",
       "      <td>0.712660</td>\n",
       "      <td>...</td>\n",
       "      <td>-0.245855</td>\n",
       "      <td>-0.269148</td>\n",
       "      <td>-0.129743</td>\n",
       "      <td>-0.251501</td>\n",
       "      <td>-0.278687</td>\n",
       "      <td>-0.266530</td>\n",
       "      <td>-0.152852</td>\n",
       "      <td>-0.257519</td>\n",
       "      <td>-0.275822</td>\n",
       "      <td>-0.266876</td>\n",
       "    </tr>\n",
       "    <tr>\n",
       "      <th>1816796431</th>\n",
       "      <td>1</td>\n",
       "      <td>0.709525</td>\n",
       "      <td>0.697582</td>\n",
       "      <td>0.703713</td>\n",
       "      <td>0.691016</td>\n",
       "      <td>0.697576</td>\n",
       "      <td>0.700467</td>\n",
       "      <td>0.709796</td>\n",
       "      <td>0.616540</td>\n",
       "      <td>0.713729</td>\n",
       "      <td>...</td>\n",
       "      <td>NaN</td>\n",
       "      <td>NaN</td>\n",
       "      <td>NaN</td>\n",
       "      <td>NaN</td>\n",
       "      <td>NaN</td>\n",
       "      <td>NaN</td>\n",
       "      <td>NaN</td>\n",
       "      <td>NaN</td>\n",
       "      <td>NaN</td>\n",
       "      <td>NaN</td>\n",
       "    </tr>\n",
       "    <tr>\n",
       "      <th>1816796431</th>\n",
       "      <td>2</td>\n",
       "      <td>0.711059</td>\n",
       "      <td>0.700858</td>\n",
       "      <td>0.706272</td>\n",
       "      <td>0.693285</td>\n",
       "      <td>0.700825</td>\n",
       "      <td>0.703319</td>\n",
       "      <td>0.711549</td>\n",
       "      <td>0.615606</td>\n",
       "      <td>0.715143</td>\n",
       "      <td>...</td>\n",
       "      <td>NaN</td>\n",
       "      <td>NaN</td>\n",
       "      <td>NaN</td>\n",
       "      <td>NaN</td>\n",
       "      <td>NaN</td>\n",
       "      <td>NaN</td>\n",
       "      <td>NaN</td>\n",
       "      <td>NaN</td>\n",
       "      <td>NaN</td>\n",
       "      <td>NaN</td>\n",
       "    </tr>\n",
       "    <tr>\n",
       "      <th>1816796431</th>\n",
       "      <td>3</td>\n",
       "      <td>0.712799</td>\n",
       "      <td>0.702518</td>\n",
       "      <td>0.707840</td>\n",
       "      <td>0.694899</td>\n",
       "      <td>0.702445</td>\n",
       "      <td>0.704794</td>\n",
       "      <td>0.712483</td>\n",
       "      <td>0.625044</td>\n",
       "      <td>0.715677</td>\n",
       "      <td>...</td>\n",
       "      <td>-0.370770</td>\n",
       "      <td>-0.408097</td>\n",
       "      <td>-0.185217</td>\n",
       "      <td>-0.325494</td>\n",
       "      <td>-0.343373</td>\n",
       "      <td>-0.328294</td>\n",
       "      <td>-0.203126</td>\n",
       "      <td>-0.315719</td>\n",
       "      <td>-0.326104</td>\n",
       "      <td>-0.314282</td>\n",
       "    </tr>\n",
       "    <tr>\n",
       "      <th>1816796431</th>\n",
       "      <td>4</td>\n",
       "      <td>0.712349</td>\n",
       "      <td>0.705451</td>\n",
       "      <td>0.709918</td>\n",
       "      <td>0.696006</td>\n",
       "      <td>0.705180</td>\n",
       "      <td>0.706928</td>\n",
       "      <td>0.712685</td>\n",
       "      <td>0.614356</td>\n",
       "      <td>0.714875</td>\n",
       "      <td>...</td>\n",
       "      <td>NaN</td>\n",
       "      <td>NaN</td>\n",
       "      <td>NaN</td>\n",
       "      <td>NaN</td>\n",
       "      <td>NaN</td>\n",
       "      <td>NaN</td>\n",
       "      <td>NaN</td>\n",
       "      <td>NaN</td>\n",
       "      <td>NaN</td>\n",
       "      <td>NaN</td>\n",
       "    </tr>\n",
       "  </tbody>\n",
       "</table>\n",
       "<p>5 rows × 1630 columns</p>\n",
       "</div>"
      ],
      "text/plain": [
       "             frame  x_face_0  x_face_1  x_face_2  x_face_3  x_face_4  \\\n",
       "sequence_id                                                            \n",
       "1816796431       0  0.710588  0.699951  0.705657  0.691768  0.699669   \n",
       "1816796431       1  0.709525  0.697582  0.703713  0.691016  0.697576   \n",
       "1816796431       2  0.711059  0.700858  0.706272  0.693285  0.700825   \n",
       "1816796431       3  0.712799  0.702518  0.707840  0.694899  0.702445   \n",
       "1816796431       4  0.712349  0.705451  0.709918  0.696006  0.705180   \n",
       "\n",
       "             x_face_5  x_face_6  x_face_7  x_face_8  ...  z_right_hand_11  \\\n",
       "sequence_id                                          ...                    \n",
       "1816796431   0.701980  0.709724  0.610405  0.712660  ...        -0.245855   \n",
       "1816796431   0.700467  0.709796  0.616540  0.713729  ...              NaN   \n",
       "1816796431   0.703319  0.711549  0.615606  0.715143  ...              NaN   \n",
       "1816796431   0.704794  0.712483  0.625044  0.715677  ...        -0.370770   \n",
       "1816796431   0.706928  0.712685  0.614356  0.714875  ...              NaN   \n",
       "\n",
       "             z_right_hand_12  z_right_hand_13  z_right_hand_14  \\\n",
       "sequence_id                                                      \n",
       "1816796431         -0.269148        -0.129743        -0.251501   \n",
       "1816796431               NaN              NaN              NaN   \n",
       "1816796431               NaN              NaN              NaN   \n",
       "1816796431         -0.408097        -0.185217        -0.325494   \n",
       "1816796431               NaN              NaN              NaN   \n",
       "\n",
       "             z_right_hand_15  z_right_hand_16  z_right_hand_17  \\\n",
       "sequence_id                                                      \n",
       "1816796431         -0.278687        -0.266530        -0.152852   \n",
       "1816796431               NaN              NaN              NaN   \n",
       "1816796431               NaN              NaN              NaN   \n",
       "1816796431         -0.343373        -0.328294        -0.203126   \n",
       "1816796431               NaN              NaN              NaN   \n",
       "\n",
       "             z_right_hand_18  z_right_hand_19  z_right_hand_20  \n",
       "sequence_id                                                     \n",
       "1816796431         -0.257519        -0.275822        -0.266876  \n",
       "1816796431               NaN              NaN              NaN  \n",
       "1816796431               NaN              NaN              NaN  \n",
       "1816796431         -0.315719        -0.326104        -0.314282  \n",
       "1816796431               NaN              NaN              NaN  \n",
       "\n",
       "[5 rows x 1630 columns]"
      ]
     },
     "execution_count": 8,
     "metadata": {},
     "output_type": "execute_result"
    }
   ],
   "source": [
    "sample_pq.head()"
   ]
  },
  {
   "cell_type": "code",
   "execution_count": 9,
   "id": "90fe60f7",
   "metadata": {
    "execution": {
     "iopub.execute_input": "2023-08-14T00:59:21.798314Z",
     "iopub.status.busy": "2023-08-14T00:59:21.797972Z",
     "iopub.status.idle": "2023-08-14T00:59:21.815412Z",
     "shell.execute_reply": "2023-08-14T00:59:21.814348Z"
    },
    "papermill": {
     "duration": 0.033541,
     "end_time": "2023-08-14T00:59:21.817472",
     "exception": false,
     "start_time": "2023-08-14T00:59:21.783931",
     "status": "completed"
    },
    "tags": []
   },
   "outputs": [],
   "source": [
    "all_columns = list(sample_pq.columns)\n",
    "rhand_x = [i for i in all_columns if 'right' in i and 'x' in i]\n",
    "rhand_y = [i for i in all_columns if 'right' in i and 'y' in i]\n",
    "lhand_x = [i for i in all_columns if 'left' in i and 'x' in i]\n",
    "lhand_y = [i for i in all_columns if 'left' in i and 'y' in i]\n",
    "rhand_x_idx = [idx for idx, i in enumerate(all_columns) if i in rhand_x]\n",
    "rhand_y_idx = [idx for idx, i in enumerate(all_columns) if i in rhand_y]\n",
    "lhand_x_idx = [idx for idx, i in enumerate(all_columns) if i in lhand_x]\n",
    "lhand_y_idx = [idx for idx, i in enumerate(all_columns) if i in lhand_y]\n",
    "lips_loc = [\n",
    "        61, 185, 40, 39, 37, 0, 267, 269, 270, 409,\n",
    "        291, 146, 91, 181, 84, 17, 314, 405, 321, 375,\n",
    "        78, 191, 80, 81, 82, 13, 312, 311, 310, 415,\n",
    "        95, 88, 178, 87, 14, 317, 402, 318, 324, 308,\n",
    "    ]\n",
    "lips_x = [i for idx, i in enumerate(all_columns) if 'x_face' in i and int(i.split('_')[-1]) in lips_loc]\n",
    "lips_y = [i for idx, i in enumerate(all_columns) if 'y_face' in i and int(i.split('_')[-1]) in lips_loc]\n",
    "lips_x_idx = [idx for idx, i in enumerate(all_columns) if i in lips_x]\n",
    "lips_y_idx = [idx for idx, i in enumerate(all_columns) if i in lips_y]"
   ]
  },
  {
   "cell_type": "code",
   "execution_count": 10,
   "id": "9a74b15c",
   "metadata": {
    "execution": {
     "iopub.execute_input": "2023-08-14T00:59:21.847870Z",
     "iopub.status.busy": "2023-08-14T00:59:21.846736Z",
     "iopub.status.idle": "2023-08-14T00:59:21.853863Z",
     "shell.execute_reply": "2023-08-14T00:59:21.852751Z"
    },
    "papermill": {
     "duration": 0.024075,
     "end_time": "2023-08-14T00:59:21.856254",
     "exception": false,
     "start_time": "2023-08-14T00:59:21.832179",
     "status": "completed"
    },
    "tags": []
   },
   "outputs": [
    {
     "name": "stdout",
     "output_type": "stream",
     "text": [
      "Num features: 164\n"
     ]
    }
   ],
   "source": [
    "selected_columns_idx = lhand_x_idx + lhand_y_idx + rhand_x_idx + rhand_y_idx +  lips_x_idx + lips_y_idx\n",
    "selected_columns_names = lhand_x + lhand_y + rhand_x + rhand_y  + lips_x + lips_y\n",
    "rhand = rhand_x + rhand_y\n",
    "lhand = lhand_x + lhand_y\n",
    "hand = rhand + lhand\n",
    "ncols = len(selected_columns_idx)\n",
    "print(f'Num features: {len(selected_columns_idx)}')"
   ]
  },
  {
   "cell_type": "code",
   "execution_count": 11,
   "id": "07f00c96",
   "metadata": {
    "execution": {
     "iopub.execute_input": "2023-08-14T00:59:21.884514Z",
     "iopub.status.busy": "2023-08-14T00:59:21.884234Z",
     "iopub.status.idle": "2023-08-14T00:59:24.794924Z",
     "shell.execute_reply": "2023-08-14T00:59:24.793872Z"
    },
    "papermill": {
     "duration": 2.928015,
     "end_time": "2023-08-14T00:59:24.797673",
     "exception": false,
     "start_time": "2023-08-14T00:59:21.869658",
     "status": "completed"
    },
    "tags": []
   },
   "outputs": [],
   "source": [
    "class PreprocessLayer(keras.layers.Layer):\n",
    "    def __init__(self):\n",
    "        super(PreprocessLayer, self).__init__()\n",
    "        # Where this variable will be used ?\n",
    "        self.normalisation_constant = tf.constant([\n",
    "            0.50 if 'x' in name else 0.0 for name in lhand\n",
    "        ], dtype=tf.float32)\n",
    "    \n",
    "    @tf.function(\n",
    "        input_signature=(tf.TensorSpec(shape=[None,ncols], dtype=tf.float32),),\n",
    "    )    \n",
    "    def call(self, data, resize=True):\n",
    "        data = tf.where(tf.math.is_nan(data), 0.0, data)\n",
    "        data = data[None]\n",
    "        \n",
    "        hand = tf.slice(data, [0, 0, 0], [-1, -1, 84])\n",
    "        hand = tf.abs(hand)\n",
    "        hand = tf.reduce_sum(hand, axis=2)\n",
    "        mask = tf.not_equal(hand, 0)\n",
    "        data = data[mask][None]\n",
    "        \n",
    "        n_frames = len(data[0])\n",
    "        \n",
    "        if n_frames < max_src_length:\n",
    "            data = tf.concat([data, tf.zeros([1, max_src_length-n_frames, len(selected_columns_idx)], dtype=tf.float32)], axis=1)\n",
    "            \n",
    "        data = tf.image.resize(\n",
    "            data, \n",
    "            [1, max_src_length],\n",
    "            method = tf.image.ResizeMethod.BILINEAR\n",
    "        )\n",
    "        \n",
    "        data = tf.squeeze(data, axis=[0])\n",
    "        return data        \n",
    "    \n",
    "preprocess_layer = PreprocessLayer()"
   ]
  },
  {
   "cell_type": "code",
   "execution_count": 12,
   "id": "afa214aa",
   "metadata": {
    "execution": {
     "iopub.execute_input": "2023-08-14T00:59:24.825878Z",
     "iopub.status.busy": "2023-08-14T00:59:24.825567Z",
     "iopub.status.idle": "2023-08-14T00:59:25.390695Z",
     "shell.execute_reply": "2023-08-14T00:59:25.389743Z"
    },
    "papermill": {
     "duration": 0.581571,
     "end_time": "2023-08-14T00:59:25.392853",
     "exception": false,
     "start_time": "2023-08-14T00:59:24.811282",
     "status": "completed"
    },
    "tags": []
   },
   "outputs": [
    {
     "name": "stdout",
     "output_type": "stream",
     "text": [
      "demo_raw_data shape: (159, 164)\n",
      "data shape: (128, 164)\n"
     ]
    }
   ],
   "source": [
    "demo_sequence_id = sample_pq.index.unique()[15]\n",
    "demo_raw_data = sample_pq.loc[demo_sequence_id, selected_columns_names]\n",
    "data = preprocess_layer(demo_raw_data)\n",
    "\n",
    "print(f'demo_raw_data shape: {demo_raw_data.shape}')\n",
    "print(f'data shape: {data.shape}')"
   ]
  },
  {
   "cell_type": "code",
   "execution_count": 13,
   "id": "af4955d3",
   "metadata": {
    "execution": {
     "iopub.execute_input": "2023-08-14T00:59:25.422133Z",
     "iopub.status.busy": "2023-08-14T00:59:25.420622Z",
     "iopub.status.idle": "2023-08-14T01:11:30.752409Z",
     "shell.execute_reply": "2023-08-14T01:11:30.750780Z"
    },
    "papermill": {
     "duration": 725.348153,
     "end_time": "2023-08-14T01:11:30.754614",
     "exception": false,
     "start_time": "2023-08-14T00:59:25.406461",
     "status": "completed"
    },
    "tags": []
   },
   "outputs": [
    {
     "name": "stderr",
     "output_type": "stream",
     "text": [
      "100%|██████████| 68/68 [12:05<00:00, 10.67s/it]\n"
     ]
    }
   ],
   "source": [
    "if os.path.isdir('preprocessed'):\n",
    "    shutil.rmtree('preprocessed')\n",
    "os.mkdir('preprocessed')\n",
    "c = 0\n",
    "data_path = '/kaggle/input/asl-fingerspelling/train_landmarks/'\n",
    "for file_id in tqdm(train_csv.file_id.unique()):\n",
    "\n",
    "    file_df = train_csv.loc[train_csv['file_id'] == file_id]\n",
    "    parquet_df = pq.read_table(data_path + str(file_id) + '.parquet', columns=['sequence_id'] + selected_columns_names).to_pandas()\n",
    "    tf_file = f'preprocessed/{file_id}.tfrecord'\n",
    "    parquet_numpy = parquet_df.to_numpy()\n",
    "    \n",
    "    with tf.io.TFRecordWriter(tf_file) as file_writer:\n",
    "        for seq_id, phrase in zip(file_df.sequence_id, file_df.phrase):\n",
    "            frames = parquet_numpy[parquet_df.index == seq_id]\n",
    "            \n",
    "#             frames_per_char = len(frames) / len(phrase)\n",
    "#             if frames_per_char < 4:\n",
    "#                 c += 1\n",
    "#                 continue\n",
    "            feature = {\n",
    "                selected_columns_names[i]: tf.train.Feature(float_list=tf.train.FloatList(value=frames[:, i]))\n",
    "                for i in range(len(selected_columns_names))\n",
    "            }\n",
    "            feature['phrase'] = tf.train.Feature(bytes_list=tf.train.BytesList(value=[bytes(phrase, 'utf-8')]))\n",
    "            \n",
    "            record_bytes = tf.train.Example(features=tf.train.Features(feature=feature)).SerializeToString()\n",
    "            file_writer.write(record_bytes)\n",
    "    "
   ]
  },
  {
   "cell_type": "code",
   "execution_count": 14,
   "id": "a1978115",
   "metadata": {
    "execution": {
     "iopub.execute_input": "2023-08-14T01:11:30.793301Z",
     "iopub.status.busy": "2023-08-14T01:11:30.792919Z",
     "iopub.status.idle": "2023-08-14T01:11:30.799595Z",
     "shell.execute_reply": "2023-08-14T01:11:30.798233Z"
    },
    "papermill": {
     "duration": 0.02819,
     "end_time": "2023-08-14T01:11:30.801545",
     "exception": false,
     "start_time": "2023-08-14T01:11:30.773355",
     "status": "completed"
    },
    "tags": []
   },
   "outputs": [
    {
     "name": "stdout",
     "output_type": "stream",
     "text": [
      "Number of tfrecord files 68\n"
     ]
    }
   ],
   "source": [
    "tfrecord_files = [os.path.join('preprocessed', i) for i in os.listdir('preprocessed')]\n",
    "print(f\"Number of tfrecord files {len(tfrecord_files)}\")\n",
    "# print(f'Number of invalid sample {c}')"
   ]
  },
  {
   "cell_type": "code",
   "execution_count": 15,
   "id": "c6bd4cec",
   "metadata": {
    "execution": {
     "iopub.execute_input": "2023-08-14T01:11:30.840108Z",
     "iopub.status.busy": "2023-08-14T01:11:30.839774Z",
     "iopub.status.idle": "2023-08-14T01:11:30.891202Z",
     "shell.execute_reply": "2023-08-14T01:11:30.890214Z"
    },
    "papermill": {
     "duration": 0.073446,
     "end_time": "2023-08-14T01:11:30.893422",
     "exception": false,
     "start_time": "2023-08-14T01:11:30.819976",
     "status": "completed"
    },
    "tags": []
   },
   "outputs": [],
   "source": [
    "look_table = tf.lookup.StaticHashTable(\n",
    "    initializer = tf.lookup.KeyValueTensorInitializer(\n",
    "        keys = list(char_to_num.keys()),\n",
    "        values = list(char_to_num.values())\n",
    "    ),\n",
    "    default_value = tf.constant(-1)\n",
    ")"
   ]
  },
  {
   "cell_type": "code",
   "execution_count": 16,
   "id": "f0680171",
   "metadata": {
    "execution": {
     "iopub.execute_input": "2023-08-14T01:11:30.932939Z",
     "iopub.status.busy": "2023-08-14T01:11:30.932632Z",
     "iopub.status.idle": "2023-08-14T01:11:30.938683Z",
     "shell.execute_reply": "2023-08-14T01:11:30.937762Z"
    },
    "papermill": {
     "duration": 0.028051,
     "end_time": "2023-08-14T01:11:30.940801",
     "exception": false,
     "start_time": "2023-08-14T01:11:30.912750",
     "status": "completed"
    },
    "tags": []
   },
   "outputs": [],
   "source": [
    "def decode_fn(record_bytes):\n",
    "    scheme = {col: tf.io.VarLenFeature(tf.float32) for col in selected_columns_names}\n",
    "    scheme['phrase'] = tf.io.FixedLenFeature([], dtype=tf.string)\n",
    "    \n",
    "    features = tf.io.parse_single_example(record_bytes, scheme)\n",
    "    \n",
    "    phrase = features['phrase']\n",
    "    \n",
    "    landmarks = ([tf.sparse.to_dense(features[col]) for col in selected_columns_names])\n",
    "    landmarks = tf.transpose(landmarks)\n",
    "    return landmarks, phrase"
   ]
  },
  {
   "cell_type": "code",
   "execution_count": 17,
   "id": "5d39a991",
   "metadata": {
    "execution": {
     "iopub.execute_input": "2023-08-14T01:11:30.980296Z",
     "iopub.status.busy": "2023-08-14T01:11:30.979950Z",
     "iopub.status.idle": "2023-08-14T01:11:30.991374Z",
     "shell.execute_reply": "2023-08-14T01:11:30.990472Z"
    },
    "papermill": {
     "duration": 0.033411,
     "end_time": "2023-08-14T01:11:30.993309",
     "exception": false,
     "start_time": "2023-08-14T01:11:30.959898",
     "status": "completed"
    },
    "tags": []
   },
   "outputs": [],
   "source": [
    "def processing(data, phrase):\n",
    "    original_phrase = phrase\n",
    "    # Empty Hand Frame Filtering\n",
    "    data = tf.where(tf.math.is_nan(data), 0.0, data)\n",
    "    data = data[None]\n",
    "\n",
    "    hand = tf.slice(data, [0, 0, 0], [-1, -1, 84])\n",
    "    hand = tf.abs(hand)\n",
    "    hand = tf.reduce_sum(hand, axis=2)\n",
    "    mask = tf.not_equal(hand, 0)\n",
    "    data = data[mask][None]\n",
    "\n",
    "    n_frames = len(data[0])\n",
    "\n",
    "    if n_frames < max_src_length:\n",
    "        data = tf.concat([data, tf.zeros([1, max_src_length-n_frames, len(selected_columns_idx)], dtype=tf.float32)], axis=1)\n",
    "\n",
    "    data = tf.image.resize(\n",
    "        data, \n",
    "        [1, max_src_length],\n",
    "        method = tf.image.ResizeMethod.BILINEAR\n",
    "    )\n",
    "\n",
    "    data = tf.squeeze(data, axis=[0])\n",
    "    phrase = tf.strings.bytes_split(phrase)\n",
    "    phrase = look_table.lookup(phrase)\n",
    "    phrase = tf.slice(phrase, begin=[0], size=[31 if tf.shape(phrase)[0] > 31 else tf.shape(phrase)[0]])\n",
    "    phrase = tf.concat([phrase, tf.constant([char_to_num[EOS]])], axis=-1)\n",
    "    if tf.shape(phrase)[0] < 32:\n",
    "        phrase = tf.pad(phrase, paddings=[[0, 32-tf.shape(phrase)[0]]], constant_values=char_to_num[PAD])\n",
    "        \n",
    "    return ({'frames_inp': data, 'phrase_inp': phrase}, phrase)"
   ]
  },
  {
   "cell_type": "code",
   "execution_count": 18,
   "id": "9edf1b69",
   "metadata": {
    "execution": {
     "iopub.execute_input": "2023-08-14T01:11:31.033592Z",
     "iopub.status.busy": "2023-08-14T01:11:31.031758Z",
     "iopub.status.idle": "2023-08-14T01:11:32.654153Z",
     "shell.execute_reply": "2023-08-14T01:11:32.653167Z"
    },
    "papermill": {
     "duration": 1.644426,
     "end_time": "2023-08-14T01:11:32.656603",
     "exception": false,
     "start_time": "2023-08-14T01:11:31.012177",
     "status": "completed"
    },
    "tags": []
   },
   "outputs": [],
   "source": [
    "train_ds = tf.data.TFRecordDataset(tfrecord_files).map(decode_fn).map(processing).batch(batch_size, drop_remainder=True).prefetch(tf.data.AUTOTUNE)\n",
    "valid_ds = tf.data.TFRecordDataset(tfrecord_files[-1]).map(decode_fn).map(processing).batch(batch_size, drop_remainder=True).prefetch(tf.data.AUTOTUNE)\n",
    "debug_ds = tf.data.TFRecordDataset(['preprocessed/5414471.tfrecord']).map(decode_fn).map(processing).batch(batch_size, drop_remainder=True).prefetch(tf.data.AUTOTUNE)"
   ]
  },
  {
   "cell_type": "code",
   "execution_count": 19,
   "id": "ea78a536",
   "metadata": {
    "execution": {
     "iopub.execute_input": "2023-08-14T01:11:32.696141Z",
     "iopub.status.busy": "2023-08-14T01:11:32.695265Z",
     "iopub.status.idle": "2023-08-14T01:11:32.706840Z",
     "shell.execute_reply": "2023-08-14T01:11:32.705851Z"
    },
    "papermill": {
     "duration": 0.033293,
     "end_time": "2023-08-14T01:11:32.708947",
     "exception": false,
     "start_time": "2023-08-14T01:11:32.675654",
     "status": "completed"
    },
    "tags": []
   },
   "outputs": [
    {
     "data": {
      "text/html": [
       "<div>\n",
       "<style scoped>\n",
       "    .dataframe tbody tr th:only-of-type {\n",
       "        vertical-align: middle;\n",
       "    }\n",
       "\n",
       "    .dataframe tbody tr th {\n",
       "        vertical-align: top;\n",
       "    }\n",
       "\n",
       "    .dataframe thead th {\n",
       "        text-align: right;\n",
       "    }\n",
       "</style>\n",
       "<table border=\"1\" class=\"dataframe\">\n",
       "  <thead>\n",
       "    <tr style=\"text-align: right;\">\n",
       "      <th></th>\n",
       "      <th>path</th>\n",
       "      <th>file_id</th>\n",
       "      <th>sequence_id</th>\n",
       "      <th>participant_id</th>\n",
       "      <th>phrase</th>\n",
       "    </tr>\n",
       "  </thead>\n",
       "  <tbody>\n",
       "    <tr>\n",
       "      <th>106</th>\n",
       "      <td>train_landmarks/5414471.parquet</td>\n",
       "      <td>5414471</td>\n",
       "      <td>1820017062</td>\n",
       "      <td>135</td>\n",
       "      <td>+31-103-4764-61-76950</td>\n",
       "    </tr>\n",
       "  </tbody>\n",
       "</table>\n",
       "</div>"
      ],
      "text/plain": [
       "                                path  file_id  sequence_id  participant_id  \\\n",
       "106  train_landmarks/5414471.parquet  5414471   1820017062             135   \n",
       "\n",
       "                    phrase  \n",
       "106  +31-103-4764-61-76950  "
      ]
     },
     "execution_count": 19,
     "metadata": {},
     "output_type": "execute_result"
    }
   ],
   "source": [
    "train_csv[train_csv['sequence_id'] == 1820017062]"
   ]
  },
  {
   "cell_type": "code",
   "execution_count": 20,
   "id": "ef5aeb09",
   "metadata": {
    "execution": {
     "iopub.execute_input": "2023-08-14T01:11:32.749563Z",
     "iopub.status.busy": "2023-08-14T01:11:32.749246Z",
     "iopub.status.idle": "2023-08-14T01:11:32.757914Z",
     "shell.execute_reply": "2023-08-14T01:11:32.756871Z"
    },
    "papermill": {
     "duration": 0.030472,
     "end_time": "2023-08-14T01:11:32.759928",
     "exception": false,
     "start_time": "2023-08-14T01:11:32.729456",
     "status": "completed"
    },
    "tags": []
   },
   "outputs": [],
   "source": [
    "class LandmarkEmbedding(keras.Model):\n",
    "    def __init__(self, units, name):\n",
    "        super(LandmarkEmbedding, self).__init__(name = f'{name}_embedding')\n",
    "        self.units = units\n",
    "        self.support_masking = True\n",
    "        \n",
    "    def build(self, input_shape):\n",
    "        self.empty_embedding = self.add_weight(\n",
    "            name=f'{self.name}_empty_embedding',\n",
    "            shape=[self.units],\n",
    "            initializer=keras.initializers.constant(0.0)\n",
    "        )\n",
    "        self.dense = keras.Sequential([\n",
    "            keras.layers.Dense(self.units, name=f'{self.name}_dense_1', use_bias=False, activation=keras.activations.gelu,\n",
    "                               kernel_initializer=keras.initializers.glorot_uniform),\n",
    "            keras.layers.Dense(self.units, name=f'{self.name}_dense-2', use_bias=False, \n",
    "                              kernel_initializer=keras.initializers.he_uniform),\n",
    "        ], name=f'{self.name}_dense')\n",
    "        \n",
    "    def call(self, x):\n",
    "        return tf.where(\n",
    "            tf.reduce_sum(x, axis=2, keepdims=True) == 0, \n",
    "            self.empty_embedding, \n",
    "            self.dense(x)\n",
    "        )"
   ]
  },
  {
   "cell_type": "code",
   "execution_count": 21,
   "id": "036a4a8f",
   "metadata": {
    "execution": {
     "iopub.execute_input": "2023-08-14T01:11:32.799047Z",
     "iopub.status.busy": "2023-08-14T01:11:32.798224Z",
     "iopub.status.idle": "2023-08-14T01:11:32.817548Z",
     "shell.execute_reply": "2023-08-14T01:11:32.816677Z"
    },
    "papermill": {
     "duration": 0.040998,
     "end_time": "2023-08-14T01:11:32.819582",
     "exception": false,
     "start_time": "2023-08-14T01:11:32.778584",
     "status": "completed"
    },
    "tags": []
   },
   "outputs": [],
   "source": [
    "MEANS = np.load('/kaggle/input/aslfr-preprocessing-dataset/MEANS.npy').reshape(-1)\n",
    "STDS = np.load('/kaggle/input/aslfr-preprocessing-dataset/STDS.npy').reshape(-1)"
   ]
  },
  {
   "cell_type": "code",
   "execution_count": 22,
   "id": "55126fdf",
   "metadata": {
    "execution": {
     "iopub.execute_input": "2023-08-14T01:11:32.859302Z",
     "iopub.status.busy": "2023-08-14T01:11:32.858432Z",
     "iopub.status.idle": "2023-08-14T01:11:32.866451Z",
     "shell.execute_reply": "2023-08-14T01:11:32.865578Z"
    },
    "papermill": {
     "duration": 0.030149,
     "end_time": "2023-08-14T01:11:32.868592",
     "exception": false,
     "start_time": "2023-08-14T01:11:32.838443",
     "status": "completed"
    },
    "tags": []
   },
   "outputs": [],
   "source": [
    "class Embedding(keras.Model): # Frames embedding\n",
    "    def __init__(self):\n",
    "        super(Embedding, self).__init__()\n",
    "        self.support_masking = True\n",
    "        \n",
    "    def build(self, input_shape):\n",
    "        \n",
    "        self.positional_embedding = tf.Variable(\n",
    "            initial_value = tf.zeros([max_src_length, encoder_embedding_dim], dtype=tf.float32),\n",
    "            trainable=True,\n",
    "            name='embedding_positional_encoder'\n",
    "        )\n",
    "        \n",
    "        self.dominant_hand_embedding = LandmarkEmbedding(encoder_embedding_dim, 'dominant_hand')\n",
    "        \n",
    "    def call(self, x, training=False):\n",
    "        x = tf.where(tf.math.equal(x, 0.0), 0.0, (x - MEANS) / STDS)\n",
    "        x = self.dominant_hand_embedding(x)\n",
    "        x = x + self.positional_embedding\n",
    "        return x"
   ]
  },
  {
   "cell_type": "code",
   "execution_count": 23,
   "id": "27865d40",
   "metadata": {
    "execution": {
     "iopub.execute_input": "2023-08-14T01:11:32.908336Z",
     "iopub.status.busy": "2023-08-14T01:11:32.907466Z",
     "iopub.status.idle": "2023-08-14T01:11:32.913321Z",
     "shell.execute_reply": "2023-08-14T01:11:32.912466Z"
    },
    "papermill": {
     "duration": 0.02789,
     "end_time": "2023-08-14T01:11:32.915276",
     "exception": false,
     "start_time": "2023-08-14T01:11:32.887386",
     "status": "completed"
    },
    "tags": []
   },
   "outputs": [],
   "source": [
    "# class MultiHeadAttention(keras.layers.Layer):\n",
    "#     def __init__(self, nheads, dim_model, dropout):\n",
    "#         super(MultiHeadAttention, self).__init__()\n",
    "#         self.nheads = nheads\n",
    "#         self.dim_model = dim_model\n",
    "#         self.dim_head = dim_model // nheads\n",
    "        \n",
    "#         self.scaling_factor = 1 / tf.math.sqrt(tf.cast(dim_model, tf.float32))\n",
    "        \n",
    "#         self.Wq = [keras.layers.Dense(self.dim_head) for _ in range(self.nheads)]\n",
    "#         self.Wk = [keras.layers.Dense(self.dim_head) for _ in range(self.nheads)]\n",
    "#         self.Wv = [keras.layers.Dense(self.dim_head) for _ in range(self.nheads)]\n",
    "#         self.Wo = keras.layers.Dense(dim_model)\n",
    "        \n",
    "#         self.softmax = keras.layers.Softmax()\n",
    "        \n",
    "#         self.dropout = keras.layers.Dropout(dropout)\n",
    "#         self.supports_masking = True\n",
    "        \n",
    "#     def call(self, q, k, v, attention_mask=None, training=False):\n",
    "#         Q = tf.stack([W(q) for W in self.Wq], axis=1)\n",
    "#         K = tf.stack([W(k) for W in self.Wk], axis=1)\n",
    "#         V = tf.stack([W(v) for W in self.Wv], axis=1)\n",
    "                \n",
    "        \n",
    "#         x = tf.matmul(Q, K, transpose_b=True) * self.scaling_factor\n",
    "        \n",
    "#         x = self.softmax(x, mask=attention_mask)\n",
    "#         x = tf.matmul(x, V)\n",
    "       \n",
    "    \n",
    "#         x = tf.unstack(x, axis=1)\n",
    "#         x = tf.concat(x, axis=-1)\n",
    "        \n",
    "        \n",
    "#         x = self.Wo(x)\n",
    "#         x = self.dropout(x)\n",
    "        \n",
    "#         return x"
   ]
  },
  {
   "cell_type": "code",
   "execution_count": 24,
   "id": "cd04d1a1",
   "metadata": {
    "execution": {
     "iopub.execute_input": "2023-08-14T01:11:32.954608Z",
     "iopub.status.busy": "2023-08-14T01:11:32.953764Z",
     "iopub.status.idle": "2023-08-14T01:11:32.965979Z",
     "shell.execute_reply": "2023-08-14T01:11:32.965084Z"
    },
    "papermill": {
     "duration": 0.034122,
     "end_time": "2023-08-14T01:11:32.967961",
     "exception": false,
     "start_time": "2023-08-14T01:11:32.933839",
     "status": "completed"
    },
    "tags": []
   },
   "outputs": [],
   "source": [
    "class MultiHeadAttention(keras.layers.Layer):\n",
    "    def __init__(self, nheads, dim_model, dropout):\n",
    "        super(MultiHeadAttention, self).__init__()\n",
    "        self.nheads = nheads\n",
    "        self.dim_model = dim_model\n",
    "        self.depth = dim_model // 2\n",
    "        \n",
    "        self.scaling_factor = 1 / tf.math.sqrt(tf.cast(self.depth, tf.float32))\n",
    "        \n",
    "        self.wq = self.fused_mha(self.depth)\n",
    "        self.wk = self.fused_mha(self.depth)\n",
    "        self.wv = self.fused_mha(self.depth)\n",
    "        \n",
    "        self.wo = keras.layers.Dense(dim_model, use_bias = False)\n",
    "        \n",
    "        \n",
    "        self.softmax = keras.layers.Softmax()\n",
    "        \n",
    "        self.reshape = keras.Sequential([\n",
    "            keras.layers.Permute([2, 1, 3]),\n",
    "            keras.layers.Reshape([max_src_length, self.depth])\n",
    "        ])\n",
    "        \n",
    "        self.dropout = keras.layers.Dropout(dropout)\n",
    "        self.supports_masking = True\n",
    "        \n",
    "    def fused_mha(self, dim):\n",
    "        return keras.Sequential([\n",
    "            keras.layers.Dense(dim, use_bias=False),\n",
    "            keras.layers.Reshape([max_src_length, self.nheads, dim // self.nheads]),\n",
    "            keras.layers.Permute([2, 1, 3])\n",
    "        ])\n",
    "        \n",
    "    def call(self, q, k, v, attention_mask=None, training=False):\n",
    "        Q = self.wq(q)\n",
    "        K = self.wk(k)\n",
    "        V = self.wv(v)\n",
    "\n",
    "        \n",
    "        x = tf.matmul(Q, K, transpose_b=True) * self.scaling_factor\n",
    "\n",
    "        x = self.softmax(x, mask=attention_mask) @ V\n",
    "    \n",
    "        x = self.reshape(x)\n",
    "        \n",
    "        x = self.wo(x)\n",
    "        x = self.dropout(x, training=training)\n",
    "        \n",
    "        return x"
   ]
  },
  {
   "cell_type": "code",
   "execution_count": 25,
   "id": "63743f75",
   "metadata": {
    "execution": {
     "iopub.execute_input": "2023-08-14T01:11:33.006891Z",
     "iopub.status.busy": "2023-08-14T01:11:33.006590Z",
     "iopub.status.idle": "2023-08-14T01:11:33.019172Z",
     "shell.execute_reply": "2023-08-14T01:11:33.018202Z"
    },
    "papermill": {
     "duration": 0.034406,
     "end_time": "2023-08-14T01:11:33.021117",
     "exception": false,
     "start_time": "2023-08-14T01:11:32.986711",
     "status": "completed"
    },
    "tags": []
   },
   "outputs": [],
   "source": [
    "class Encoder(keras.Model):\n",
    "    def __init__(self, num_blocks):\n",
    "        super(Encoder, self).__init__(name='encoder')\n",
    "        self.num_blocks=num_blocks\n",
    "        \n",
    "    \n",
    "    def build(self, input_shape):\n",
    "        \n",
    "        self.l1 = []\n",
    "        self.mha = []\n",
    "        self.l2 = []\n",
    "        self.feed_forward = []\n",
    "        \n",
    "        for i in range(self.num_blocks):\n",
    "            self.l1.append(keras.layers.LayerNormalization(epsilon=layer_norm_eps))\n",
    "            self.mha.append(MultiHeadAttention(n_attention_heads, encoder_embedding_dim, mha_dropout))\n",
    "            self.l2.append(keras.layers.LayerNormalization(epsilon=layer_norm_eps))\n",
    "            self.feed_forward.append(keras.Sequential([\n",
    "                keras.layers.Dense(encoder_embedding_dim * feed_forward_expand_ratio, activation=keras.activations.gelu, \n",
    "                                  kernel_initializer=keras.initializers.glorot_uniform, use_bias=False),\n",
    "                keras.layers.Dropout(feed_dropout),\n",
    "                keras.layers.Dense(encoder_embedding_dim, use_bias=False, kernel_initializer=keras.initializers.he_uniform)\n",
    "            ]))\n",
    "            if encoder_embedding_dim != decoder_embedding_dim:\n",
    "                self.dense_out = keras.layers.Dense(decoder_embedding_dim,\n",
    "                                                    kernel_initializer=keras.initializers.glorot_uniform, use_bias=False)\n",
    "                self.apply_dense_out = True\n",
    "            else:\n",
    "                self.apply_dense_out = False\n",
    "    \n",
    "                \n",
    "    def get_attention_mask(self, x_inp):\n",
    "        attention_mask = tf.math.count_nonzero(x_inp, axis=[2], keepdims=True, dtype=tf.int32)\n",
    "        attention_mask = tf.math.count_nonzero(attention_mask, axis=[2], keepdims=False)\n",
    "        attention_mask = tf.expand_dims(attention_mask, axis=1)\n",
    "        attention_mask = tf.expand_dims(attention_mask, axis=1)\n",
    "        return attention_mask\n",
    "        \n",
    "\n",
    "    def call(self, x, x_inp, training=False):\n",
    "        attention_mask = self.get_attention_mask(x_inp)\n",
    "        for l1, mha, l2, forward in zip(self.l1, self.mha, self.l2, self.feed_forward):\n",
    "            x = l1(x + mha(x, x, x, attention_mask = attention_mask))\n",
    "            x = l2(x + forward(x))\n",
    "        if self.apply_dense_out:\n",
    "            x = self.dense_out(x)\n",
    "        return x"
   ]
  },
  {
   "cell_type": "code",
   "execution_count": 26,
   "id": "10e15c80",
   "metadata": {
    "execution": {
     "iopub.execute_input": "2023-08-14T01:11:33.060575Z",
     "iopub.status.busy": "2023-08-14T01:11:33.060278Z",
     "iopub.status.idle": "2023-08-14T01:11:33.079930Z",
     "shell.execute_reply": "2023-08-14T01:11:33.078982Z"
    },
    "papermill": {
     "duration": 0.041603,
     "end_time": "2023-08-14T01:11:33.081880",
     "exception": false,
     "start_time": "2023-08-14T01:11:33.040277",
     "status": "completed"
    },
    "tags": []
   },
   "outputs": [],
   "source": [
    "class Decoder(keras.Model):\n",
    "    def __init__(self, num_blocks):\n",
    "        super(Decoder, self).__init__(name='decoder')\n",
    "        self.num_blocks = num_blocks\n",
    "        self.support_masking = True\n",
    "    \n",
    "    def build(self, input_shape):\n",
    "        self.causal_mask = self.get_causal_attention_mask()\n",
    "        self.positional_embedding = tf.Variable(\n",
    "            initial_value = tf.zeros([max_src_length, decoder_embedding_dim], dtype=tf.float32),\n",
    "            trainable=True, \n",
    "            name='embedding_positional_encoder',\n",
    "        )\n",
    "        \n",
    "        \n",
    "        self.char_embedding = keras.layers.Embedding(vocab_size, decoder_embedding_dim, embeddings_initializer=keras.initializers.constant(0.0))\n",
    "        self.pos_emb_mha = MultiHeadAttention(n_attention_heads, decoder_embedding_dim, dropout=mha_dropout)\n",
    "        self.pos_emb_ln = keras.layers.LayerNormalization(epsilon=layer_norm_eps)\n",
    "        \n",
    "        self.ln1 = []\n",
    "        self.mha = []\n",
    "        self.ln2 = []\n",
    "        self.feed_forward = []\n",
    "        for i in range(self.num_blocks):\n",
    "            self.ln1.append(keras.layers.LayerNormalization(epsilon=layer_norm_eps))\n",
    "            self.mha.append(MultiHeadAttention(n_attention_heads, decoder_embedding_dim, mha_dropout))\n",
    "            self.ln2.append(keras.layers.LayerNormalization(epsilon=layer_norm_eps))\n",
    "            self.feed_forward.append(keras.Sequential([\n",
    "                keras.layers.Dense(decoder_embedding_dim * feed_forward_expand_ratio, activation=keras.activations.gelu, \n",
    "                                  kernel_initializer=keras.initializers.he_uniform, use_bias=False),\n",
    "                keras.layers.Dropout(feed_dropout),\n",
    "                keras.layers.Dense(decoder_embedding_dim, kernel_initializer=keras.initializers.he_uniform, use_bias=False)\n",
    "            ]))\n",
    "        \n",
    "    def get_causal_attention_mask(self):\n",
    "        i = tf.range(max_src_length)[:, tf.newaxis]\n",
    "        j = tf.range(max_src_length)\n",
    "        mask = tf.cast(i >= j, dtype=tf.int32)\n",
    "        mask = tf.reshape(mask, (1, max_src_length, max_src_length))\n",
    "        mult = tf.concat(\n",
    "            [tf.expand_dims(1, -1), tf.constant([1, 1], dtype=tf.int32)],\n",
    "            axis=0,\n",
    "        )\n",
    "        mask = tf.tile(mask, mult)\n",
    "        mask = tf.cast(mask, tf.float32)\n",
    "        return mask\n",
    "\n",
    "    \n",
    "    def get_attention_mask(self, x_inp):\n",
    "        # Attention Mask\n",
    "        attention_mask = tf.math.count_nonzero(x_inp, axis=[2], keepdims=True, dtype=tf.int32)\n",
    "        attention_mask = tf.math.count_nonzero(attention_mask, axis=[2], keepdims=False)\n",
    "        attention_mask = tf.expand_dims(attention_mask, axis=1)\n",
    "        attention_mask = tf.expand_dims(attention_mask, axis=1)\n",
    "        return attention_mask\n",
    "\n",
    "    \n",
    "    def call(self, encoder_output, phrase, x_inp, training=False):\n",
    "        \n",
    "        B = tf.shape(encoder_output)[0]\n",
    "        phrase = tf.pad(phrase, [[0,0], [1,0]], constant_values=char_to_num[SOS], name='prepend_sos_token')\n",
    "        phrase = tf.pad(phrase, [[0,0], [0,max_src_length-max_tgt_length-1]],\n",
    "                        constant_values=char_to_num[PAD], name='append_pad_token')\n",
    "#         print(phrase)\n",
    "#         print(phrase.shape)\n",
    "        x = self.positional_embedding + self.char_embedding(phrase)\n",
    "        x = self.pos_emb_ln(x + self.pos_emb_mha(x, x, x, attention_mask=self.causal_mask))\n",
    "        attention_mask = self.get_attention_mask(x_inp)\n",
    "        for ln1, mha, ln2, feed_forward in zip(self.ln1, self.mha, self.ln2, self.feed_forward):\n",
    "            x = ln1(x + mha(x, encoder_output, encoder_output, attention_mask=attention_mask))\n",
    "            x = ln2(x + feed_forward(x)) # The dropout is useless here\n",
    "        x = tf.slice(x, [0, 0, 0], [-1, max_tgt_length, -1]) # Revisit\n",
    "        return x\n",
    "            "
   ]
  },
  {
   "cell_type": "code",
   "execution_count": 27,
   "id": "f961ec6d",
   "metadata": {
    "execution": {
     "iopub.execute_input": "2023-08-14T01:11:33.121516Z",
     "iopub.status.busy": "2023-08-14T01:11:33.120584Z",
     "iopub.status.idle": "2023-08-14T01:11:33.129354Z",
     "shell.execute_reply": "2023-08-14T01:11:33.128447Z"
    },
    "papermill": {
     "duration": 0.03082,
     "end_time": "2023-08-14T01:11:33.131374",
     "exception": false,
     "start_time": "2023-08-14T01:11:33.100554",
     "status": "completed"
    },
    "tags": []
   },
   "outputs": [],
   "source": [
    "# TopK accuracy for multi dimensional output\n",
    "# Revisit\n",
    "class TopKAccuracy(tf.keras.metrics.Metric):\n",
    "    def __init__(self, k, **kwargs):\n",
    "        super(TopKAccuracy, self).__init__(name=f'top{k}acc', **kwargs)\n",
    "        self.top_k_acc = tf.keras.metrics.SparseTopKCategoricalAccuracy(k=k)\n",
    "\n",
    "    def update_state(self, y_true, y_pred, sample_weight=None):\n",
    "        y_true = tf.reshape(y_true, [-1])\n",
    "        y_pred = tf.reshape(y_pred, [-1, vocab_size])\n",
    "        character_idxs = tf.where(y_true < dict_size)\n",
    "        y_true = tf.gather(y_true, character_idxs, axis=0)\n",
    "        y_pred = tf.gather(y_pred, character_idxs, axis=0)\n",
    "        self.top_k_acc.update_state(y_true, y_pred)\n",
    "\n",
    "    def result(self):\n",
    "        return self.top_k_acc.result()\n",
    "    \n",
    "    def reset_state(self):\n",
    "        self.top_k_acc.reset_state()\n",
    "    "
   ]
  },
  {
   "cell_type": "code",
   "execution_count": 28,
   "id": "8f0103d2",
   "metadata": {
    "execution": {
     "iopub.execute_input": "2023-08-14T01:11:33.171719Z",
     "iopub.status.busy": "2023-08-14T01:11:33.171102Z",
     "iopub.status.idle": "2023-08-14T01:11:33.176939Z",
     "shell.execute_reply": "2023-08-14T01:11:33.176041Z"
    },
    "papermill": {
     "duration": 0.028377,
     "end_time": "2023-08-14T01:11:33.178979",
     "exception": false,
     "start_time": "2023-08-14T01:11:33.150602",
     "status": "completed"
    },
    "tags": []
   },
   "outputs": [],
   "source": [
    "loss_weight = np.ones(vocab_size, dtype=np.float32)\n",
    "loss_weight[char_to_num[PAD]] = 0"
   ]
  },
  {
   "cell_type": "code",
   "execution_count": 29,
   "id": "90983332",
   "metadata": {
    "execution": {
     "iopub.execute_input": "2023-08-14T01:11:33.218433Z",
     "iopub.status.busy": "2023-08-14T01:11:33.217599Z",
     "iopub.status.idle": "2023-08-14T01:11:33.224320Z",
     "shell.execute_reply": "2023-08-14T01:11:33.223428Z"
    },
    "papermill": {
     "duration": 0.028367,
     "end_time": "2023-08-14T01:11:33.226312",
     "exception": false,
     "start_time": "2023-08-14T01:11:33.197945",
     "status": "completed"
    },
    "tags": []
   },
   "outputs": [],
   "source": [
    "def scce_with_ls(y_true, y_pred):\n",
    "    PAD_IDX = char_to_num[PAD]\n",
    "    idxs = tf.where(y_true != PAD_IDX)\n",
    "    y_true = tf.gather_nd(y_true, idxs)\n",
    "    y_pred = tf.gather_nd(y_pred, idxs)\n",
    "    y_true = tf.cast(y_true, tf.int32)\n",
    "    y_true = tf.one_hot(y_true, vocab_size, axis=1)\n",
    "    \n",
    "    loss = tf.keras.losses.categorical_crossentropy(y_true, y_pred, label_smoothing=0.25, from_logits=True)\n",
    "    loss = tf.math.reduce_mean(loss)\n",
    "    return loss"
   ]
  },
  {
   "cell_type": "code",
   "execution_count": 30,
   "id": "55b29410",
   "metadata": {
    "execution": {
     "iopub.execute_input": "2023-08-14T01:11:33.265542Z",
     "iopub.status.busy": "2023-08-14T01:11:33.264577Z",
     "iopub.status.idle": "2023-08-14T01:11:33.273651Z",
     "shell.execute_reply": "2023-08-14T01:11:33.272785Z"
    },
    "papermill": {
     "duration": 0.030765,
     "end_time": "2023-08-14T01:11:33.275660",
     "exception": false,
     "start_time": "2023-08-14T01:11:33.244895",
     "status": "completed"
    },
    "tags": []
   },
   "outputs": [],
   "source": [
    "def lrfn(current_step, num_warmup_steps, lr_max, num_cycles=0.50, num_training_steps=100):\n",
    "    \n",
    "    if current_step < num_warmup_steps:\n",
    "        return lr_max * 2 ** -(num_warmup_steps - current_step)\n",
    "    else:\n",
    "        progress = float(current_step - num_warmup_steps) / float(max(1, num_training_steps - num_warmup_steps))\n",
    "\n",
    "        return max(0.0, 0.5 * (1.0 + math.cos(math.pi * float(num_cycles) * 2.0 * progress))) * lr_max\n",
    "LR_SCHEDULE = [lrfn(step, num_warmup_steps=10, lr_max=1e-3, num_cycles=0.50) for step in range(100)]\n",
    "lr_callback = tf.keras.callbacks.LearningRateScheduler(lambda step: LR_SCHEDULE[step], verbose=0)"
   ]
  },
  {
   "cell_type": "code",
   "execution_count": 31,
   "id": "c198249f",
   "metadata": {
    "execution": {
     "iopub.execute_input": "2023-08-14T01:11:33.317404Z",
     "iopub.status.busy": "2023-08-14T01:11:33.317058Z",
     "iopub.status.idle": "2023-08-14T01:11:33.327147Z",
     "shell.execute_reply": "2023-08-14T01:11:33.326229Z"
    },
    "papermill": {
     "duration": 0.033472,
     "end_time": "2023-08-14T01:11:33.329041",
     "exception": false,
     "start_time": "2023-08-14T01:11:33.295569",
     "status": "completed"
    },
    "tags": []
   },
   "outputs": [],
   "source": [
    "def get_model():\n",
    "    \n",
    "    frames_inp = keras.layers.Input([max_src_length, len(selected_columns_idx)], dtype=tf.float32, name='frames_inp')\n",
    "    phrase_inp = keras.layers.Input([max_tgt_length], dtype=tf.float32, name='phrase_inp')\n",
    "    x = keras.layers.Masking(mask_value=0.0, input_shape=[max_src_length, len(selected_columns_idx)])(frames_inp)\n",
    "    x = Embedding()(x)\n",
    "    x = Encoder(n_encoders)(x, frames_inp)\n",
    "    x = Decoder(n_decoders)(x, phrase_inp, frames_inp)\n",
    "    \n",
    "    x = keras.Sequential([\n",
    "        keras.layers.Dropout(classfier_dropout),\n",
    "        keras.layers.Dense(vocab_size, activation=keras.activations.linear, kernel_initializer=keras.initializers.he_uniform,\n",
    "                          use_bias=False)\n",
    "        \n",
    "    ], name='classifier')(x)\n",
    "    model = keras.models.Model(inputs=[frames_inp, phrase_inp], outputs=x)\n",
    "    loss = scce_with_ls\n",
    "    \n",
    "    optimizer = tfa.optimizers.RectifiedAdam(sma_threshold=4)\n",
    "    optimizer = tfa.optimizers.Lookahead(optimizer, sync_period=5)\n",
    "\n",
    "    # TopK Metrics\n",
    "    metrics = [\n",
    "        TopKAccuracy(1),\n",
    "        TopKAccuracy(5),\n",
    "    ]\n",
    "    \n",
    "    model.compile(\n",
    "        loss=loss,\n",
    "        optimizer=optimizer,\n",
    "        metrics=metrics,\n",
    "        loss_weights=loss_weight,\n",
    "    )\n",
    "    \n",
    "    return model"
   ]
  },
  {
   "cell_type": "code",
   "execution_count": 32,
   "id": "f3efc9b6",
   "metadata": {
    "execution": {
     "iopub.execute_input": "2023-08-14T01:11:33.368839Z",
     "iopub.status.busy": "2023-08-14T01:11:33.367964Z",
     "iopub.status.idle": "2023-08-14T01:11:36.769114Z",
     "shell.execute_reply": "2023-08-14T01:11:36.768128Z"
    },
    "papermill": {
     "duration": 3.423303,
     "end_time": "2023-08-14T01:11:36.771630",
     "exception": false,
     "start_time": "2023-08-14T01:11:33.348327",
     "status": "completed"
    },
    "tags": []
   },
   "outputs": [],
   "source": [
    "tf.keras.backend.clear_session()\n",
    "model = get_model()"
   ]
  },
  {
   "cell_type": "code",
   "execution_count": 33,
   "id": "1fbec5af",
   "metadata": {
    "execution": {
     "iopub.execute_input": "2023-08-14T01:11:36.810940Z",
     "iopub.status.busy": "2023-08-14T01:11:36.810126Z",
     "iopub.status.idle": "2023-08-14T01:11:37.337918Z",
     "shell.execute_reply": "2023-08-14T01:11:37.336852Z"
    },
    "papermill": {
     "duration": 0.549848,
     "end_time": "2023-08-14T01:11:37.340463",
     "exception": false,
     "start_time": "2023-08-14T01:11:36.790615",
     "status": "completed"
    },
    "tags": []
   },
   "outputs": [],
   "source": [
    "elements = debug_ds.take(1).get_single_element()\n",
    "inputs = {\n",
    "    'frames_inp': tf.expand_dims(elements[0]['frames_inp'][0], axis=0),\n",
    "    'phrase_inp': tf.expand_dims(elements[0]['phrase_inp'][0], axis=0)\n",
    "}"
   ]
  },
  {
   "cell_type": "code",
   "execution_count": 34,
   "id": "0c092057",
   "metadata": {
    "execution": {
     "iopub.execute_input": "2023-08-14T01:11:37.380359Z",
     "iopub.status.busy": "2023-08-14T01:11:37.379587Z",
     "iopub.status.idle": "2023-08-14T01:11:39.373370Z",
     "shell.execute_reply": "2023-08-14T01:11:39.372344Z"
    },
    "papermill": {
     "duration": 2.016187,
     "end_time": "2023-08-14T01:11:39.375787",
     "exception": false,
     "start_time": "2023-08-14T01:11:37.359600",
     "status": "completed"
    },
    "tags": []
   },
   "outputs": [],
   "source": [
    "outputs = model(inputs, training=False)"
   ]
  },
  {
   "cell_type": "code",
   "execution_count": 35,
   "id": "75a59903",
   "metadata": {
    "execution": {
     "iopub.execute_input": "2023-08-14T01:11:39.416837Z",
     "iopub.status.busy": "2023-08-14T01:11:39.415908Z",
     "iopub.status.idle": "2023-08-14T01:11:39.585335Z",
     "shell.execute_reply": "2023-08-14T01:11:39.584362Z"
    },
    "papermill": {
     "duration": 0.25222,
     "end_time": "2023-08-14T01:11:39.647890",
     "exception": false,
     "start_time": "2023-08-14T01:11:39.395670",
     "status": "completed"
    },
    "tags": []
   },
   "outputs": [
    {
     "name": "stdout",
     "output_type": "stream",
     "text": [
      "Model: \"model\"\n",
      "__________________________________________________________________________________________________\n",
      " Layer (type)                   Output Shape         Param #     Connected to                     \n",
      "==================================================================================================\n",
      " frames_inp (InputLayer)        [(None, 128, 164)]   0           []                               \n",
      "                                                                                                  \n",
      " masking (Masking)              (None, 128, 164)     0           ['frames_inp[0][0]']             \n",
      "                                                                                                  \n",
      " embedding (Embedding)          (None, 128, 384)     259968      ['masking[0][0]']                \n",
      "|¯¯¯¯¯¯¯¯¯¯¯¯¯¯¯¯¯¯¯¯¯¯¯¯¯¯¯¯¯¯¯¯¯¯¯¯¯¯¯¯¯¯¯¯¯¯¯¯¯¯¯¯¯¯¯¯¯¯¯¯¯¯¯¯¯¯¯¯¯¯¯¯¯¯¯¯¯¯¯¯¯¯¯¯¯¯¯¯¯¯¯¯¯¯¯¯|\n",
      "| dominant_hand_embedding (Landm  multiple          210816      []                               |\n",
      "| arkEmbedding)                                                                                  |\n",
      "||¯¯¯¯¯¯¯¯¯¯¯¯¯¯¯¯¯¯¯¯¯¯¯¯¯¯¯¯¯¯¯¯¯¯¯¯¯¯¯¯¯¯¯¯¯¯¯¯¯¯¯¯¯¯¯¯¯¯¯¯¯¯¯¯¯¯¯¯¯¯¯¯¯¯¯¯¯¯¯¯¯¯¯¯¯¯¯¯¯¯¯¯¯¯||\n",
      "|| dominant_hand_embedding_dense   (None, 128, 384)  210432    []                               ||\n",
      "|| (Sequential)                                                                                 ||\n",
      "|||¯¯¯¯¯¯¯¯¯¯¯¯¯¯¯¯¯¯¯¯¯¯¯¯¯¯¯¯¯¯¯¯¯¯¯¯¯¯¯¯¯¯¯¯¯¯¯¯¯¯¯¯¯¯¯¯¯¯¯¯¯¯¯¯¯¯¯¯¯¯¯¯¯¯¯¯¯¯¯¯¯¯¯¯¯¯¯¯¯¯¯¯|||\n",
      "||| dominant_hand_embedding_dense_  (None, 128, 384)  62976   []                               |||\n",
      "||| 1 (Dense)                                                                                  |||\n",
      "|||                                                                                            |||\n",
      "||| dominant_hand_embedding_dense-  (None, 128, 384)  147456  []                               |||\n",
      "||| 2 (Dense)                                                                                  |||\n",
      "||¯¯¯¯¯¯¯¯¯¯¯¯¯¯¯¯¯¯¯¯¯¯¯¯¯¯¯¯¯¯¯¯¯¯¯¯¯¯¯¯¯¯¯¯¯¯¯¯¯¯¯¯¯¯¯¯¯¯¯¯¯¯¯¯¯¯¯¯¯¯¯¯¯¯¯¯¯¯¯¯¯¯¯¯¯¯¯¯¯¯¯¯¯¯||\n",
      "|¯¯¯¯¯¯¯¯¯¯¯¯¯¯¯¯¯¯¯¯¯¯¯¯¯¯¯¯¯¯¯¯¯¯¯¯¯¯¯¯¯¯¯¯¯¯¯¯¯¯¯¯¯¯¯¯¯¯¯¯¯¯¯¯¯¯¯¯¯¯¯¯¯¯¯¯¯¯¯¯¯¯¯¯¯¯¯¯¯¯¯¯¯¯¯¯|\n",
      "¯¯¯¯¯¯¯¯¯¯¯¯¯¯¯¯¯¯¯¯¯¯¯¯¯¯¯¯¯¯¯¯¯¯¯¯¯¯¯¯¯¯¯¯¯¯¯¯¯¯¯¯¯¯¯¯¯¯¯¯¯¯¯¯¯¯¯¯¯¯¯¯¯¯¯¯¯¯¯¯¯¯¯¯¯¯¯¯¯¯¯¯¯¯¯¯¯¯\n",
      " encoder (Encoder)              (None, 128, 256)     3643392     ['embedding[0][0]',              \n",
      "                                                                  'frames_inp[0][0]']             \n",
      "|¯¯¯¯¯¯¯¯¯¯¯¯¯¯¯¯¯¯¯¯¯¯¯¯¯¯¯¯¯¯¯¯¯¯¯¯¯¯¯¯¯¯¯¯¯¯¯¯¯¯¯¯¯¯¯¯¯¯¯¯¯¯¯¯¯¯¯¯¯¯¯¯¯¯¯¯¯¯¯¯¯¯¯¯¯¯¯¯¯¯¯¯¯¯¯¯|\n",
      "| layer_normalization (LayerNorm  multiple          768         []                               |\n",
      "| alization)                                                                                     |\n",
      "|                                                                                                |\n",
      "| layer_normalization_2 (LayerNo  multiple          768         []                               |\n",
      "| rmalization)                                                                                   |\n",
      "|                                                                                                |\n",
      "| layer_normalization_4 (LayerNo  multiple          768         []                               |\n",
      "| rmalization)                                                                                   |\n",
      "|                                                                                                |\n",
      "| layer_normalization_6 (LayerNo  multiple          768         []                               |\n",
      "| rmalization)                                                                                   |\n",
      "|                                                                                                |\n",
      "| multi_head_attention (MultiHea  multiple          294912      []                               |\n",
      "| dAttention)                                                                                    |\n",
      "|                                                                                                |\n",
      "| multi_head_attention_1 (MultiH  multiple          294912      []                               |\n",
      "| eadAttention)                                                                                  |\n",
      "|                                                                                                |\n",
      "| multi_head_attention_2 (MultiH  multiple          294912      []                               |\n",
      "| eadAttention)                                                                                  |\n",
      "|                                                                                                |\n",
      "| multi_head_attention_3 (MultiH  multiple          294912      []                               |\n",
      "| eadAttention)                                                                                  |\n",
      "|                                                                                                |\n",
      "| layer_normalization_1 (LayerNo  multiple          768         []                               |\n",
      "| rmalization)                                                                                   |\n",
      "|                                                                                                |\n",
      "| layer_normalization_3 (LayerNo  multiple          768         []                               |\n",
      "| rmalization)                                                                                   |\n",
      "|                                                                                                |\n",
      "| layer_normalization_5 (LayerNo  multiple          768         []                               |\n",
      "| rmalization)                                                                                   |\n",
      "|                                                                                                |\n",
      "| layer_normalization_7 (LayerNo  multiple          768         []                               |\n",
      "| rmalization)                                                                                   |\n",
      "|                                                                                                |\n",
      "| sequential_4 (Sequential)    (None, 128, 384)     589824      []                               |\n",
      "||¯¯¯¯¯¯¯¯¯¯¯¯¯¯¯¯¯¯¯¯¯¯¯¯¯¯¯¯¯¯¯¯¯¯¯¯¯¯¯¯¯¯¯¯¯¯¯¯¯¯¯¯¯¯¯¯¯¯¯¯¯¯¯¯¯¯¯¯¯¯¯¯¯¯¯¯¯¯¯¯¯¯¯¯¯¯¯¯¯¯¯¯¯¯||\n",
      "|| dense_4 (Dense)            (None, 128, 768)     294912      []                               ||\n",
      "||                                                                                              ||\n",
      "|| dropout_1 (Dropout)        (None, 128, 768)     0           []                               ||\n",
      "||                                                                                              ||\n",
      "|| dense_5 (Dense)            (None, 128, 384)     294912      []                               ||\n",
      "|¯¯¯¯¯¯¯¯¯¯¯¯¯¯¯¯¯¯¯¯¯¯¯¯¯¯¯¯¯¯¯¯¯¯¯¯¯¯¯¯¯¯¯¯¯¯¯¯¯¯¯¯¯¯¯¯¯¯¯¯¯¯¯¯¯¯¯¯¯¯¯¯¯¯¯¯¯¯¯¯¯¯¯¯¯¯¯¯¯¯¯¯¯¯¯¯|\n",
      "| sequential_9 (Sequential)    (None, 128, 384)     589824      []                               |\n",
      "||¯¯¯¯¯¯¯¯¯¯¯¯¯¯¯¯¯¯¯¯¯¯¯¯¯¯¯¯¯¯¯¯¯¯¯¯¯¯¯¯¯¯¯¯¯¯¯¯¯¯¯¯¯¯¯¯¯¯¯¯¯¯¯¯¯¯¯¯¯¯¯¯¯¯¯¯¯¯¯¯¯¯¯¯¯¯¯¯¯¯¯¯¯¯||\n",
      "|| dense_11 (Dense)           (None, 128, 768)     294912      []                               ||\n",
      "||                                                                                              ||\n",
      "|| dropout_3 (Dropout)        (None, 128, 768)     0           []                               ||\n",
      "||                                                                                              ||\n",
      "|| dense_12 (Dense)           (None, 128, 384)     294912      []                               ||\n",
      "|¯¯¯¯¯¯¯¯¯¯¯¯¯¯¯¯¯¯¯¯¯¯¯¯¯¯¯¯¯¯¯¯¯¯¯¯¯¯¯¯¯¯¯¯¯¯¯¯¯¯¯¯¯¯¯¯¯¯¯¯¯¯¯¯¯¯¯¯¯¯¯¯¯¯¯¯¯¯¯¯¯¯¯¯¯¯¯¯¯¯¯¯¯¯¯¯|\n",
      "| sequential_14 (Sequential)   (None, 128, 384)     589824      []                               |\n",
      "||¯¯¯¯¯¯¯¯¯¯¯¯¯¯¯¯¯¯¯¯¯¯¯¯¯¯¯¯¯¯¯¯¯¯¯¯¯¯¯¯¯¯¯¯¯¯¯¯¯¯¯¯¯¯¯¯¯¯¯¯¯¯¯¯¯¯¯¯¯¯¯¯¯¯¯¯¯¯¯¯¯¯¯¯¯¯¯¯¯¯¯¯¯¯||\n",
      "|| dense_18 (Dense)           (None, 128, 768)     294912      []                               ||\n",
      "||                                                                                              ||\n",
      "|| dropout_5 (Dropout)        (None, 128, 768)     0           []                               ||\n",
      "||                                                                                              ||\n",
      "|| dense_19 (Dense)           (None, 128, 384)     294912      []                               ||\n",
      "|¯¯¯¯¯¯¯¯¯¯¯¯¯¯¯¯¯¯¯¯¯¯¯¯¯¯¯¯¯¯¯¯¯¯¯¯¯¯¯¯¯¯¯¯¯¯¯¯¯¯¯¯¯¯¯¯¯¯¯¯¯¯¯¯¯¯¯¯¯¯¯¯¯¯¯¯¯¯¯¯¯¯¯¯¯¯¯¯¯¯¯¯¯¯¯¯|\n",
      "| sequential_19 (Sequential)   (None, 128, 384)     589824      []                               |\n",
      "||¯¯¯¯¯¯¯¯¯¯¯¯¯¯¯¯¯¯¯¯¯¯¯¯¯¯¯¯¯¯¯¯¯¯¯¯¯¯¯¯¯¯¯¯¯¯¯¯¯¯¯¯¯¯¯¯¯¯¯¯¯¯¯¯¯¯¯¯¯¯¯¯¯¯¯¯¯¯¯¯¯¯¯¯¯¯¯¯¯¯¯¯¯¯||\n",
      "|| dense_25 (Dense)           (None, 128, 768)     294912      []                               ||\n",
      "||                                                                                              ||\n",
      "|| dropout_7 (Dropout)        (None, 128, 768)     0           []                               ||\n",
      "||                                                                                              ||\n",
      "|| dense_26 (Dense)           (None, 128, 384)     294912      []                               ||\n",
      "|¯¯¯¯¯¯¯¯¯¯¯¯¯¯¯¯¯¯¯¯¯¯¯¯¯¯¯¯¯¯¯¯¯¯¯¯¯¯¯¯¯¯¯¯¯¯¯¯¯¯¯¯¯¯¯¯¯¯¯¯¯¯¯¯¯¯¯¯¯¯¯¯¯¯¯¯¯¯¯¯¯¯¯¯¯¯¯¯¯¯¯¯¯¯¯¯|\n",
      "| dense_27 (Dense)             multiple             98304       []                               |\n",
      "¯¯¯¯¯¯¯¯¯¯¯¯¯¯¯¯¯¯¯¯¯¯¯¯¯¯¯¯¯¯¯¯¯¯¯¯¯¯¯¯¯¯¯¯¯¯¯¯¯¯¯¯¯¯¯¯¯¯¯¯¯¯¯¯¯¯¯¯¯¯¯¯¯¯¯¯¯¯¯¯¯¯¯¯¯¯¯¯¯¯¯¯¯¯¯¯¯¯\n",
      " phrase_inp (InputLayer)        [(None, 32)]         0           []                               \n",
      "                                                                                                  \n",
      " decoder (Decoder)              (None, 32, 256)      968704      ['encoder[0][0]',                \n",
      "                                                                  'phrase_inp[0][0]',             \n",
      "                                                                  'frames_inp[0][0]']             \n",
      "|¯¯¯¯¯¯¯¯¯¯¯¯¯¯¯¯¯¯¯¯¯¯¯¯¯¯¯¯¯¯¯¯¯¯¯¯¯¯¯¯¯¯¯¯¯¯¯¯¯¯¯¯¯¯¯¯¯¯¯¯¯¯¯¯¯¯¯¯¯¯¯¯¯¯¯¯¯¯¯¯¯¯¯¯¯¯¯¯¯¯¯¯¯¯¯¯|\n",
      "| embedding (Embedding)        multiple             15872       []                               |\n",
      "|                                                                                                |\n",
      "| multi_head_attention (MultiHea  multiple          131072      []                               |\n",
      "| dAttention)                                                                                    |\n",
      "|                                                                                                |\n",
      "| layer_normalization (LayerNorm  multiple          512         []                               |\n",
      "| alization)                                                                                     |\n",
      "|                                                                                                |\n",
      "| layer_normalization_1 (LayerNo  multiple          512         []                               |\n",
      "| rmalization)                                                                                   |\n",
      "|                                                                                                |\n",
      "| layer_normalization_3 (LayerNo  multiple          512         []                               |\n",
      "| rmalization)                                                                                   |\n",
      "|                                                                                                |\n",
      "| multi_head_attention_1 (MultiH  multiple          131072      []                               |\n",
      "| eadAttention)                                                                                  |\n",
      "|                                                                                                |\n",
      "| multi_head_attention_2 (MultiH  multiple          131072      []                               |\n",
      "| eadAttention)                                                                                  |\n",
      "|                                                                                                |\n",
      "| layer_normalization_2 (LayerNo  multiple          512         []                               |\n",
      "| rmalization)                                                                                   |\n",
      "|                                                                                                |\n",
      "| layer_normalization_4 (LayerNo  multiple          512         []                               |\n",
      "| rmalization)                                                                                   |\n",
      "|                                                                                                |\n",
      "| sequential_8 (Sequential)    (None, 128, 256)     262144      []                               |\n",
      "||¯¯¯¯¯¯¯¯¯¯¯¯¯¯¯¯¯¯¯¯¯¯¯¯¯¯¯¯¯¯¯¯¯¯¯¯¯¯¯¯¯¯¯¯¯¯¯¯¯¯¯¯¯¯¯¯¯¯¯¯¯¯¯¯¯¯¯¯¯¯¯¯¯¯¯¯¯¯¯¯¯¯¯¯¯¯¯¯¯¯¯¯¯¯||\n",
      "|| dense_8 (Dense)            (None, 128, 512)     131072      []                               ||\n",
      "||                                                                                              ||\n",
      "|| dropout_2 (Dropout)        (None, 128, 512)     0           []                               ||\n",
      "||                                                                                              ||\n",
      "|| dense_9 (Dense)            (None, 128, 256)     131072      []                               ||\n",
      "|¯¯¯¯¯¯¯¯¯¯¯¯¯¯¯¯¯¯¯¯¯¯¯¯¯¯¯¯¯¯¯¯¯¯¯¯¯¯¯¯¯¯¯¯¯¯¯¯¯¯¯¯¯¯¯¯¯¯¯¯¯¯¯¯¯¯¯¯¯¯¯¯¯¯¯¯¯¯¯¯¯¯¯¯¯¯¯¯¯¯¯¯¯¯¯¯|\n",
      "| sequential_13 (Sequential)   (None, 128, 256)     262144      []                               |\n",
      "||¯¯¯¯¯¯¯¯¯¯¯¯¯¯¯¯¯¯¯¯¯¯¯¯¯¯¯¯¯¯¯¯¯¯¯¯¯¯¯¯¯¯¯¯¯¯¯¯¯¯¯¯¯¯¯¯¯¯¯¯¯¯¯¯¯¯¯¯¯¯¯¯¯¯¯¯¯¯¯¯¯¯¯¯¯¯¯¯¯¯¯¯¯¯||\n",
      "|| dense_14 (Dense)           (None, 128, 512)     131072      []                               ||\n",
      "||                                                                                              ||\n",
      "|| dropout_4 (Dropout)        (None, 128, 512)     0           []                               ||\n",
      "||                                                                                              ||\n",
      "|| dense_15 (Dense)           (None, 128, 256)     131072      []                               ||\n",
      "|¯¯¯¯¯¯¯¯¯¯¯¯¯¯¯¯¯¯¯¯¯¯¯¯¯¯¯¯¯¯¯¯¯¯¯¯¯¯¯¯¯¯¯¯¯¯¯¯¯¯¯¯¯¯¯¯¯¯¯¯¯¯¯¯¯¯¯¯¯¯¯¯¯¯¯¯¯¯¯¯¯¯¯¯¯¯¯¯¯¯¯¯¯¯¯¯|\n",
      "¯¯¯¯¯¯¯¯¯¯¯¯¯¯¯¯¯¯¯¯¯¯¯¯¯¯¯¯¯¯¯¯¯¯¯¯¯¯¯¯¯¯¯¯¯¯¯¯¯¯¯¯¯¯¯¯¯¯¯¯¯¯¯¯¯¯¯¯¯¯¯¯¯¯¯¯¯¯¯¯¯¯¯¯¯¯¯¯¯¯¯¯¯¯¯¯¯¯\n",
      " classifier (Sequential)        (None, 32, 62)       15872       ['decoder[0][0]']                \n",
      "|¯¯¯¯¯¯¯¯¯¯¯¯¯¯¯¯¯¯¯¯¯¯¯¯¯¯¯¯¯¯¯¯¯¯¯¯¯¯¯¯¯¯¯¯¯¯¯¯¯¯¯¯¯¯¯¯¯¯¯¯¯¯¯¯¯¯¯¯¯¯¯¯¯¯¯¯¯¯¯¯¯¯¯¯¯¯¯¯¯¯¯¯¯¯¯¯|\n",
      "| dropout (Dropout)            (None, 32, 256)      0           []                               |\n",
      "|                                                                                                |\n",
      "| dense (Dense)                (None, 32, 62)       15872       []                               |\n",
      "¯¯¯¯¯¯¯¯¯¯¯¯¯¯¯¯¯¯¯¯¯¯¯¯¯¯¯¯¯¯¯¯¯¯¯¯¯¯¯¯¯¯¯¯¯¯¯¯¯¯¯¯¯¯¯¯¯¯¯¯¯¯¯¯¯¯¯¯¯¯¯¯¯¯¯¯¯¯¯¯¯¯¯¯¯¯¯¯¯¯¯¯¯¯¯¯¯¯\n",
      "==================================================================================================\n",
      "Total params: 4,887,936\n",
      "Trainable params: 4,887,936\n",
      "Non-trainable params: 0\n",
      "__________________________________________________________________________________________________\n"
     ]
    }
   ],
   "source": [
    "model.summary(expand_nested=True)"
   ]
  },
  {
   "cell_type": "code",
   "execution_count": 36,
   "id": "2b12a6ff",
   "metadata": {
    "execution": {
     "iopub.execute_input": "2023-08-14T01:11:39.713329Z",
     "iopub.status.busy": "2023-08-14T01:11:39.712954Z",
     "iopub.status.idle": "2023-08-14T01:11:40.039662Z",
     "shell.execute_reply": "2023-08-14T01:11:40.038704Z"
    },
    "papermill": {
     "duration": 0.361797,
     "end_time": "2023-08-14T01:11:40.041844",
     "exception": false,
     "start_time": "2023-08-14T01:11:39.680047",
     "status": "completed"
    },
    "tags": []
   },
   "outputs": [
    {
     "data": {
      "image/png": "[encoded data removed]",
      "text/plain": [
       "<IPython.core.display.Image object>"
      ]
     },
     "execution_count": 36,
     "metadata": {},
     "output_type": "execute_result"
    }
   ],
   "source": [
    "tf.keras.utils.plot_model(model, show_shapes=True, show_dtype=True, show_layer_names=True, expand_nested=True, show_layer_activations=True)"
   ]
  },
  {
   "cell_type": "code",
   "execution_count": 37,
   "id": "83e0edad",
   "metadata": {
    "execution": {
     "iopub.execute_input": "2023-08-14T01:11:40.108873Z",
     "iopub.status.busy": "2023-08-14T01:11:40.107897Z",
     "iopub.status.idle": "2023-08-14T01:11:40.114401Z",
     "shell.execute_reply": "2023-08-14T01:11:40.113443Z"
    },
    "papermill": {
     "duration": 0.041668,
     "end_time": "2023-08-14T01:11:40.116522",
     "exception": false,
     "start_time": "2023-08-14T01:11:40.074854",
     "status": "completed"
    },
    "tags": []
   },
   "outputs": [],
   "source": [
    "# Custom callback to update weight decay with learning rate\n",
    "class WeightDecayCallback(tf.keras.callbacks.Callback):\n",
    "    def __init__(self, wd_ratio=0.05):\n",
    "        self.step_counter = 0\n",
    "        self.wd_ratio = wd_ratio\n",
    "    \n",
    "    def on_epoch_begin(self, epoch, logs=None):\n",
    "        model.optimizer.weight_decay = model.optimizer.learning_rate * self.wd_ratio\n",
    "        print(f'learning rate: {model.optimizer.learning_rate.numpy():.2e}, weight decay: {model.optimizer.weight_decay.numpy():.2e}')"
   ]
  },
  {
   "cell_type": "code",
   "execution_count": 38,
   "id": "4df54005",
   "metadata": {
    "execution": {
     "iopub.execute_input": "2023-08-14T01:11:40.184162Z",
     "iopub.status.busy": "2023-08-14T01:11:40.183806Z",
     "iopub.status.idle": "2023-08-14T01:11:40.234733Z",
     "shell.execute_reply": "2023-08-14T01:11:40.233575Z"
    },
    "papermill": {
     "duration": 0.087682,
     "end_time": "2023-08-14T01:11:40.237493",
     "exception": false,
     "start_time": "2023-08-14T01:11:40.149811",
     "status": "completed"
    },
    "tags": []
   },
   "outputs": [
    {
     "name": "stdout",
     "output_type": "stream",
     "text": [
      "Model: \"model\"\n",
      "__________________________________________________________________________________________________\n",
      " Layer (type)                   Output Shape         Param #     Connected to                     \n",
      "==================================================================================================\n",
      " frames_inp (InputLayer)        [(None, 128, 164)]   0           []                               \n",
      "                                                                                                  \n",
      " masking (Masking)              (None, 128, 164)     0           ['frames_inp[0][0]']             \n",
      "                                                                                                  \n",
      " embedding (Embedding)          (None, 128, 384)     259968      ['masking[0][0]']                \n",
      "                                                                                                  \n",
      " encoder (Encoder)              (None, 128, 256)     3643392     ['embedding[0][0]',              \n",
      "                                                                  'frames_inp[0][0]']             \n",
      "                                                                                                  \n",
      " phrase_inp (InputLayer)        [(None, 32)]         0           []                               \n",
      "                                                                                                  \n",
      " decoder (Decoder)              (None, 32, 256)      968704      ['encoder[0][0]',                \n",
      "                                                                  'phrase_inp[0][0]',             \n",
      "                                                                  'frames_inp[0][0]']             \n",
      "                                                                                                  \n",
      " classifier (Sequential)        (None, 32, 62)       15872       ['decoder[0][0]']                \n",
      "                                                                                                  \n",
      "==================================================================================================\n",
      "Total params: 4,887,936\n",
      "Trainable params: 4,887,936\n",
      "Non-trainable params: 0\n",
      "__________________________________________________________________________________________________\n"
     ]
    }
   ],
   "source": [
    "model.summary()"
   ]
  },
  {
   "cell_type": "code",
   "execution_count": 39,
   "id": "a2d30108",
   "metadata": {
    "execution": {
     "iopub.execute_input": "2023-08-14T01:11:40.309555Z",
     "iopub.status.busy": "2023-08-14T01:11:40.307729Z",
     "iopub.status.idle": "2023-08-14T05:54:20.777936Z",
     "shell.execute_reply": "2023-08-14T05:54:20.775690Z"
    },
    "papermill": {
     "duration": 16960.513015,
     "end_time": "2023-08-14T05:54:20.784796",
     "exception": false,
     "start_time": "2023-08-14T01:11:40.271781",
     "status": "completed"
    },
    "tags": []
   },
   "outputs": [
    {
     "name": "stdout",
     "output_type": "stream",
     "text": [
      "learning rate: 9.77e-07, weight decay: 4.88e-08\n",
      "Epoch 1/100\n",
      "1050/1050 [==============================] - 163s 135ms/step - loss: 4.5400 - top1acc: 0.0342 - top5acc: 0.1447 - val_loss: 3.8049 - val_top1acc: 0.1012 - val_top5acc: 0.3237 - lr: 9.7656e-07\n",
      "learning rate: 1.95e-06, weight decay: 9.77e-08\n",
      "Epoch 2/100\n",
      "1050/1050 [==============================] - 145s 138ms/step - loss: 3.9169 - top1acc: 0.1052 - top5acc: 0.3305 - val_loss: 3.3973 - val_top1acc: 0.1779 - val_top5acc: 0.5139 - lr: 1.9531e-06\n",
      "learning rate: 3.91e-06, weight decay: 1.95e-07\n",
      "Epoch 3/100\n",
      "1050/1050 [==============================] - 156s 148ms/step - loss: 3.6326 - top1acc: 0.1499 - top5acc: 0.4428 - val_loss: 3.2696 - val_top1acc: 0.2055 - val_top5acc: 0.5562 - lr: 3.9063e-06\n",
      "learning rate: 7.81e-06, weight decay: 3.91e-07\n",
      "Epoch 4/100\n",
      "1050/1050 [==============================] - 162s 154ms/step - loss: 3.4949 - top1acc: 0.1699 - top5acc: 0.4851 - val_loss: 3.2163 - val_top1acc: 0.2236 - val_top5acc: 0.5714 - lr: 7.8125e-06\n",
      "learning rate: 1.56e-05, weight decay: 7.81e-07\n",
      "Epoch 5/100\n",
      "1050/1050 [==============================] - 156s 148ms/step - loss: 3.4077 - top1acc: 0.1842 - top5acc: 0.5091 - val_loss: 3.1782 - val_top1acc: 0.2353 - val_top5acc: 0.5870 - lr: 1.5625e-05\n",
      "learning rate: 3.13e-05, weight decay: 1.56e-06\n",
      "Epoch 6/100\n",
      "1050/1050 [==============================] - 155s 147ms/step - loss: 3.3365 - top1acc: 0.1982 - top5acc: 0.5317 - val_loss: 3.1392 - val_top1acc: 0.2462 - val_top5acc: 0.6037 - lr: 3.1250e-05\n",
      "learning rate: 6.25e-05, weight decay: 3.13e-06\n",
      "Epoch 7/100\n",
      "1050/1050 [==============================] - 153s 145ms/step - loss: 3.2703 - top1acc: 0.2136 - top5acc: 0.5564 - val_loss: 3.0983 - val_top1acc: 0.2634 - val_top5acc: 0.6304 - lr: 6.2500e-05\n",
      "learning rate: 1.25e-04, weight decay: 6.25e-06\n",
      "Epoch 8/100\n",
      "1050/1050 [==============================] - 152s 145ms/step - loss: 3.1983 - top1acc: 0.2355 - top5acc: 0.5918 - val_loss: 3.0368 - val_top1acc: 0.2927 - val_top5acc: 0.6685 - lr: 1.2500e-04\n",
      "learning rate: 2.50e-04, weight decay: 1.25e-05\n",
      "Epoch 9/100\n",
      "1050/1050 [==============================] - 149s 141ms/step - loss: 3.1125 - top1acc: 0.2672 - top5acc: 0.6402 - val_loss: 2.9525 - val_top1acc: 0.3329 - val_top5acc: 0.7155 - lr: 2.5000e-04\n",
      "learning rate: 5.00e-04, weight decay: 2.50e-05\n",
      "Epoch 10/100\n",
      "1050/1050 [==============================] - 146s 139ms/step - loss: 2.9927 - top1acc: 0.3215 - top5acc: 0.6992 - val_loss: 2.7147 - val_top1acc: 0.4592 - val_top5acc: 0.8005 - lr: 5.0000e-04\n",
      "learning rate: 1.00e-03, weight decay: 5.00e-05\n",
      "Epoch 11/100\n",
      "1050/1050 [==============================] - 145s 138ms/step - loss: 2.7845 - top1acc: 0.4284 - top5acc: 0.7745 - val_loss: 2.4572 - val_top1acc: 0.5851 - val_top5acc: 0.8557 - lr: 0.0010\n",
      "learning rate: 1.00e-03, weight decay: 5.00e-05\n",
      "Epoch 12/100\n",
      "1050/1050 [==============================] - 151s 143ms/step - loss: 2.5642 - top1acc: 0.5402 - top5acc: 0.8261 - val_loss: 2.3024 - val_top1acc: 0.6592 - val_top5acc: 0.8817 - lr: 9.9970e-04\n",
      "learning rate: 9.99e-04, weight decay: 4.99e-05\n",
      "Epoch 13/100\n",
      "1050/1050 [==============================] - 148s 141ms/step - loss: 2.4510 - top1acc: 0.5935 - top5acc: 0.8478 - val_loss: 2.2420 - val_top1acc: 0.6843 - val_top5acc: 0.8889 - lr: 9.9878e-04\n",
      "learning rate: 9.97e-04, weight decay: 4.99e-05\n",
      "Epoch 14/100\n",
      "1050/1050 [==============================] - 151s 144ms/step - loss: 2.3934 - top1acc: 0.6193 - top5acc: 0.8578 - val_loss: 2.2036 - val_top1acc: 0.7005 - val_top5acc: 0.8967 - lr: 9.9726e-04\n",
      "learning rate: 9.95e-04, weight decay: 4.98e-05\n",
      "Epoch 15/100\n",
      "1050/1050 [==============================] - 150s 142ms/step - loss: 2.3551 - top1acc: 0.6357 - top5acc: 0.8649 - val_loss: 2.1776 - val_top1acc: 0.7116 - val_top5acc: 0.9006 - lr: 9.9513e-04\n",
      "learning rate: 9.92e-04, weight decay: 4.96e-05\n",
      "Epoch 16/100\n",
      "1050/1050 [==============================] - 149s 142ms/step - loss: 2.3265 - top1acc: 0.6482 - top5acc: 0.8700 - val_loss: 2.1533 - val_top1acc: 0.7232 - val_top5acc: 0.9034 - lr: 9.9240e-04\n",
      "learning rate: 9.89e-04, weight decay: 4.95e-05\n",
      "Epoch 17/100\n",
      "1050/1050 [==============================] - 151s 144ms/step - loss: 2.3027 - top1acc: 0.6592 - top5acc: 0.8738 - val_loss: 2.1259 - val_top1acc: 0.7364 - val_top5acc: 0.9076 - lr: 9.8907e-04\n",
      "learning rate: 9.85e-04, weight decay: 4.93e-05\n",
      "Epoch 18/100\n",
      "1050/1050 [==============================] - 150s 143ms/step - loss: 2.2839 - top1acc: 0.6668 - top5acc: 0.8774 - val_loss: 2.1116 - val_top1acc: 0.7414 - val_top5acc: 0.9103 - lr: 9.8515e-04\n",
      "learning rate: 9.81e-04, weight decay: 4.90e-05\n",
      "Epoch 19/100\n",
      "1050/1050 [==============================] - 150s 143ms/step - loss: 2.2661 - top1acc: 0.6749 - top5acc: 0.8807 - val_loss: 2.0947 - val_top1acc: 0.7490 - val_top5acc: 0.9124 - lr: 9.8063e-04\n",
      "learning rate: 9.76e-04, weight decay: 4.88e-05\n",
      "Epoch 20/100\n",
      "1050/1050 [==============================] - 154s 146ms/step - loss: 2.2515 - top1acc: 0.6815 - top5acc: 0.8828 - val_loss: 2.0817 - val_top1acc: 0.7540 - val_top5acc: 0.9158 - lr: 9.7553e-04\n",
      "learning rate: 9.70e-04, weight decay: 4.85e-05\n",
      "Epoch 21/100\n",
      "1050/1050 [==============================] - 152s 144ms/step - loss: 2.2384 - top1acc: 0.6871 - top5acc: 0.8854 - val_loss: 2.0715 - val_top1acc: 0.7586 - val_top5acc: 0.9157 - lr: 9.6985e-04\n",
      "learning rate: 9.64e-04, weight decay: 4.82e-05\n",
      "Epoch 22/100\n",
      "1050/1050 [==============================] - 151s 144ms/step - loss: 2.2260 - top1acc: 0.6926 - top5acc: 0.8873 - val_loss: 2.0635 - val_top1acc: 0.7612 - val_top5acc: 0.9164 - lr: 9.6359e-04\n",
      "learning rate: 9.57e-04, weight decay: 4.78e-05\n",
      "Epoch 23/100\n",
      "1050/1050 [==============================] - 151s 143ms/step - loss: 2.2163 - top1acc: 0.6965 - top5acc: 0.8892 - val_loss: 2.0543 - val_top1acc: 0.7679 - val_top5acc: 0.9176 - lr: 9.5677e-04\n",
      "learning rate: 9.49e-04, weight decay: 4.75e-05\n",
      "Epoch 24/100\n",
      "1050/1050 [==============================] - 152s 144ms/step - loss: 2.2072 - top1acc: 0.7007 - top5acc: 0.8909 - val_loss: 2.0501 - val_top1acc: 0.7678 - val_top5acc: 0.9172 - lr: 9.4940e-04\n",
      "learning rate: 9.41e-04, weight decay: 4.71e-05\n",
      "Epoch 25/100\n",
      "1050/1050 [==============================] - 152s 145ms/step - loss: 2.1971 - top1acc: 0.7048 - top5acc: 0.8928 - val_loss: 2.0389 - val_top1acc: 0.7744 - val_top5acc: 0.9207 - lr: 9.4147e-04\n",
      "learning rate: 9.33e-04, weight decay: 4.67e-05\n",
      "Epoch 26/100\n",
      "1050/1050 [==============================] - 148s 141ms/step - loss: 2.1893 - top1acc: 0.7086 - top5acc: 0.8942 - val_loss: 2.0296 - val_top1acc: 0.7765 - val_top5acc: 0.9205 - lr: 9.3301e-04\n",
      "learning rate: 9.24e-04, weight decay: 4.62e-05\n",
      "Epoch 27/100\n",
      "1050/1050 [==============================] - 151s 143ms/step - loss: 2.1809 - top1acc: 0.7122 - top5acc: 0.8956 - val_loss: 2.0282 - val_top1acc: 0.7773 - val_top5acc: 0.9214 - lr: 9.2402e-04\n",
      "learning rate: 9.15e-04, weight decay: 4.57e-05\n",
      "Epoch 28/100\n",
      "1050/1050 [==============================] - 159s 151ms/step - loss: 2.1736 - top1acc: 0.7152 - top5acc: 0.8972 - val_loss: 2.0188 - val_top1acc: 0.7801 - val_top5acc: 0.9239 - lr: 9.1452e-04\n",
      "learning rate: 9.05e-04, weight decay: 4.52e-05\n",
      "Epoch 29/100\n",
      "1050/1050 [==============================] - 150s 143ms/step - loss: 2.1661 - top1acc: 0.7185 - top5acc: 0.8985 - val_loss: 2.0135 - val_top1acc: 0.7835 - val_top5acc: 0.9245 - lr: 9.0451e-04\n",
      "learning rate: 8.94e-04, weight decay: 4.47e-05\n",
      "Epoch 30/100\n",
      "1050/1050 [==============================] - 150s 142ms/step - loss: 2.1600 - top1acc: 0.7208 - top5acc: 0.8993 - val_loss: 2.0072 - val_top1acc: 0.7862 - val_top5acc: 0.9255 - lr: 8.9401e-04\n",
      "learning rate: 8.83e-04, weight decay: 4.42e-05\n",
      "Epoch 31/100\n",
      "1050/1050 [==============================] - 147s 140ms/step - loss: 2.1533 - top1acc: 0.7242 - top5acc: 0.9007 - val_loss: 2.0002 - val_top1acc: 0.7894 - val_top5acc: 0.9261 - lr: 8.8302e-04\n",
      "learning rate: 8.72e-04, weight decay: 4.36e-05\n",
      "Epoch 32/100\n",
      "1050/1050 [==============================] - 149s 142ms/step - loss: 2.1468 - top1acc: 0.7269 - top5acc: 0.9020 - val_loss: 1.9946 - val_top1acc: 0.7906 - val_top5acc: 0.9273 - lr: 8.7157e-04\n",
      "learning rate: 8.60e-04, weight decay: 4.30e-05\n",
      "Epoch 33/100\n",
      "1050/1050 [==============================] - 153s 146ms/step - loss: 2.1411 - top1acc: 0.7297 - top5acc: 0.9028 - val_loss: 1.9934 - val_top1acc: 0.7941 - val_top5acc: 0.9283 - lr: 8.5967e-04\n",
      "learning rate: 8.47e-04, weight decay: 4.24e-05\n",
      "Epoch 34/100\n",
      "1050/1050 [==============================] - 153s 146ms/step - loss: 2.1356 - top1acc: 0.7322 - top5acc: 0.9039 - val_loss: 1.9886 - val_top1acc: 0.7939 - val_top5acc: 0.9293 - lr: 8.4733e-04\n",
      "learning rate: 8.35e-04, weight decay: 4.17e-05\n",
      "Epoch 35/100\n",
      "1050/1050 [==============================] - 155s 148ms/step - loss: 2.1295 - top1acc: 0.7349 - top5acc: 0.9050 - val_loss: 1.9821 - val_top1acc: 0.7964 - val_top5acc: 0.9285 - lr: 8.3457e-04\n",
      "learning rate: 8.21e-04, weight decay: 4.11e-05\n",
      "Epoch 36/100\n",
      "1050/1050 [==============================] - 158s 151ms/step - loss: 2.1243 - top1acc: 0.7370 - top5acc: 0.9058 - val_loss: 1.9783 - val_top1acc: 0.7993 - val_top5acc: 0.9301 - lr: 8.2139e-04\n",
      "learning rate: 8.08e-04, weight decay: 4.04e-05\n",
      "Epoch 37/100\n",
      "1050/1050 [==============================] - 152s 145ms/step - loss: 2.1196 - top1acc: 0.7392 - top5acc: 0.9070 - val_loss: 1.9746 - val_top1acc: 0.8015 - val_top5acc: 0.9318 - lr: 8.0783e-04\n",
      "learning rate: 7.94e-04, weight decay: 3.97e-05\n",
      "Epoch 38/100\n",
      "1050/1050 [==============================] - 152s 145ms/step - loss: 2.1138 - top1acc: 0.7417 - top5acc: 0.9081 - val_loss: 1.9705 - val_top1acc: 0.8017 - val_top5acc: 0.9310 - lr: 7.9389e-04\n",
      "learning rate: 7.80e-04, weight decay: 3.90e-05\n",
      "Epoch 39/100\n",
      "1050/1050 [==============================] - 150s 143ms/step - loss: 2.1088 - top1acc: 0.7440 - top5acc: 0.9089 - val_loss: 1.9672 - val_top1acc: 0.8054 - val_top5acc: 0.9325 - lr: 7.7960e-04\n",
      "learning rate: 7.65e-04, weight decay: 3.82e-05\n",
      "Epoch 40/100\n",
      "1050/1050 [==============================] - 155s 147ms/step - loss: 2.1042 - top1acc: 0.7460 - top5acc: 0.9100 - val_loss: 1.9602 - val_top1acc: 0.8084 - val_top5acc: 0.9340 - lr: 7.6496e-04\n",
      "learning rate: 7.50e-04, weight decay: 3.75e-05\n",
      "Epoch 41/100\n",
      "1050/1050 [==============================] - 154s 147ms/step - loss: 2.0996 - top1acc: 0.7477 - top5acc: 0.9107 - val_loss: 1.9573 - val_top1acc: 0.8075 - val_top5acc: 0.9353 - lr: 7.5000e-04\n",
      "learning rate: 7.35e-04, weight decay: 3.67e-05\n",
      "Epoch 42/100\n",
      "1050/1050 [==============================] - 153s 145ms/step - loss: 2.0948 - top1acc: 0.7500 - top5acc: 0.9117 - val_loss: 1.9524 - val_top1acc: 0.8109 - val_top5acc: 0.9344 - lr: 7.3474e-04\n",
      "learning rate: 7.19e-04, weight decay: 3.60e-05\n",
      "Epoch 43/100\n",
      "1050/1050 [==============================] - 154s 147ms/step - loss: 2.0901 - top1acc: 0.7520 - top5acc: 0.9126 - val_loss: 1.9482 - val_top1acc: 0.8130 - val_top5acc: 0.9350 - lr: 7.1919e-04\n",
      "learning rate: 7.03e-04, weight decay: 3.52e-05\n",
      "Epoch 44/100\n",
      "1050/1050 [==============================] - 156s 148ms/step - loss: 2.0852 - top1acc: 0.7542 - top5acc: 0.9134 - val_loss: 1.9476 - val_top1acc: 0.8142 - val_top5acc: 0.9353 - lr: 7.0337e-04\n",
      "learning rate: 6.87e-04, weight decay: 3.44e-05\n",
      "Epoch 45/100\n",
      "1050/1050 [==============================] - 159s 152ms/step - loss: 2.0809 - top1acc: 0.7561 - top5acc: 0.9141 - val_loss: 1.9440 - val_top1acc: 0.8147 - val_top5acc: 0.9351 - lr: 6.8730e-04\n",
      "learning rate: 6.71e-04, weight decay: 3.36e-05\n",
      "Epoch 46/100\n",
      "1050/1050 [==============================] - 152s 145ms/step - loss: 2.0761 - top1acc: 0.7584 - top5acc: 0.9150 - val_loss: 1.9396 - val_top1acc: 0.8166 - val_top5acc: 0.9368 - lr: 6.7101e-04\n",
      "learning rate: 6.55e-04, weight decay: 3.27e-05\n",
      "Epoch 47/100\n",
      "1050/1050 [==============================] - 157s 149ms/step - loss: 2.0718 - top1acc: 0.7604 - top5acc: 0.9158 - val_loss: 1.9336 - val_top1acc: 0.8179 - val_top5acc: 0.9368 - lr: 6.5451e-04\n",
      "learning rate: 6.38e-04, weight decay: 3.19e-05\n",
      "Epoch 48/100\n",
      "1050/1050 [==============================] - 155s 148ms/step - loss: 2.0677 - top1acc: 0.7623 - top5acc: 0.9163 - val_loss: 1.9305 - val_top1acc: 0.8196 - val_top5acc: 0.9392 - lr: 6.3782e-04\n",
      "learning rate: 6.21e-04, weight decay: 3.10e-05\n",
      "Epoch 49/100\n",
      "1050/1050 [==============================] - 154s 147ms/step - loss: 2.0636 - top1acc: 0.7636 - top5acc: 0.9174 - val_loss: 1.9286 - val_top1acc: 0.8215 - val_top5acc: 0.9388 - lr: 6.2096e-04\n",
      "learning rate: 6.04e-04, weight decay: 3.02e-05\n",
      "Epoch 50/100\n",
      "1050/1050 [==============================] - 155s 147ms/step - loss: 2.0584 - top1acc: 0.7663 - top5acc: 0.9183 - val_loss: 1.9241 - val_top1acc: 0.8235 - val_top5acc: 0.9402 - lr: 6.0396e-04\n",
      "learning rate: 5.87e-04, weight decay: 2.93e-05\n",
      "Epoch 51/100\n",
      "1050/1050 [==============================] - 158s 150ms/step - loss: 2.0545 - top1acc: 0.7678 - top5acc: 0.9188 - val_loss: 1.9235 - val_top1acc: 0.8232 - val_top5acc: 0.9401 - lr: 5.8682e-04\n",
      "learning rate: 5.70e-04, weight decay: 2.85e-05\n",
      "Epoch 52/100\n",
      "1050/1050 [==============================] - 156s 148ms/step - loss: 2.0505 - top1acc: 0.7694 - top5acc: 0.9196 - val_loss: 1.9186 - val_top1acc: 0.8268 - val_top5acc: 0.9401 - lr: 5.6959e-04\n",
      "learning rate: 5.52e-04, weight decay: 2.76e-05\n",
      "Epoch 53/100\n",
      "1050/1050 [==============================] - 160s 152ms/step - loss: 2.0467 - top1acc: 0.7716 - top5acc: 0.9204 - val_loss: 1.9155 - val_top1acc: 0.8282 - val_top5acc: 0.9414 - lr: 5.5226e-04\n",
      "learning rate: 5.35e-04, weight decay: 2.67e-05\n",
      "Epoch 54/100\n",
      "1050/1050 [==============================] - 153s 146ms/step - loss: 2.0422 - top1acc: 0.7736 - top5acc: 0.9212 - val_loss: 1.9103 - val_top1acc: 0.8308 - val_top5acc: 0.9406 - lr: 5.3488e-04\n",
      "learning rate: 5.17e-04, weight decay: 2.59e-05\n",
      "Epoch 55/100\n",
      "1050/1050 [==============================] - 150s 143ms/step - loss: 2.0384 - top1acc: 0.7749 - top5acc: 0.9219 - val_loss: 1.9080 - val_top1acc: 0.8313 - val_top5acc: 0.9417 - lr: 5.1745e-04\n",
      "learning rate: 5.00e-04, weight decay: 2.50e-05\n",
      "Epoch 56/100\n",
      "1050/1050 [==============================] - 151s 143ms/step - loss: 2.0343 - top1acc: 0.7768 - top5acc: 0.9227 - val_loss: 1.9036 - val_top1acc: 0.8349 - val_top5acc: 0.9437 - lr: 5.0000e-04\n",
      "learning rate: 4.83e-04, weight decay: 2.41e-05\n",
      "Epoch 57/100\n",
      "1050/1050 [==============================] - 150s 142ms/step - loss: 2.0297 - top1acc: 0.7791 - top5acc: 0.9235 - val_loss: 1.9018 - val_top1acc: 0.8323 - val_top5acc: 0.9421 - lr: 4.8255e-04\n",
      "learning rate: 4.65e-04, weight decay: 2.33e-05\n",
      "Epoch 58/100\n",
      "1050/1050 [==============================] - 150s 143ms/step - loss: 2.0256 - top1acc: 0.7810 - top5acc: 0.9240 - val_loss: 1.8987 - val_top1acc: 0.8362 - val_top5acc: 0.9442 - lr: 4.6512e-04\n",
      "learning rate: 4.48e-04, weight decay: 2.24e-05\n",
      "Epoch 59/100\n",
      "1050/1050 [==============================] - 153s 146ms/step - loss: 2.0225 - top1acc: 0.7822 - top5acc: 0.9250 - val_loss: 1.8965 - val_top1acc: 0.8382 - val_top5acc: 0.9446 - lr: 4.4774e-04\n",
      "learning rate: 4.30e-04, weight decay: 2.15e-05\n",
      "Epoch 60/100\n",
      "1050/1050 [==============================] - 152s 144ms/step - loss: 2.0181 - top1acc: 0.7841 - top5acc: 0.9257 - val_loss: 1.8931 - val_top1acc: 0.8369 - val_top5acc: 0.9433 - lr: 4.3041e-04\n",
      "learning rate: 4.13e-04, weight decay: 2.07e-05\n",
      "Epoch 61/100\n",
      "1050/1050 [==============================] - 160s 152ms/step - loss: 2.0146 - top1acc: 0.7859 - top5acc: 0.9263 - val_loss: 1.8919 - val_top1acc: 0.8368 - val_top5acc: 0.9451 - lr: 4.1318e-04\n",
      "learning rate: 3.96e-04, weight decay: 1.98e-05\n",
      "Epoch 62/100\n",
      "1050/1050 [==============================] - 153s 145ms/step - loss: 2.0100 - top1acc: 0.7882 - top5acc: 0.9270 - val_loss: 1.8876 - val_top1acc: 0.8383 - val_top5acc: 0.9467 - lr: 3.9604e-04\n",
      "learning rate: 3.79e-04, weight decay: 1.90e-05\n",
      "Epoch 63/100\n",
      "1050/1050 [==============================] - 153s 145ms/step - loss: 2.0071 - top1acc: 0.7893 - top5acc: 0.9275 - val_loss: 1.8843 - val_top1acc: 0.8417 - val_top5acc: 0.9469 - lr: 3.7904e-04\n",
      "learning rate: 3.62e-04, weight decay: 1.81e-05\n",
      "Epoch 64/100\n",
      "1050/1050 [==============================] - 151s 144ms/step - loss: 2.0034 - top1acc: 0.7909 - top5acc: 0.9281 - val_loss: 1.8797 - val_top1acc: 0.8454 - val_top5acc: 0.9483 - lr: 3.6218e-04\n",
      "learning rate: 3.45e-04, weight decay: 1.73e-05\n",
      "Epoch 65/100\n",
      "1050/1050 [==============================] - 151s 143ms/step - loss: 1.9995 - top1acc: 0.7928 - top5acc: 0.9288 - val_loss: 1.8801 - val_top1acc: 0.8439 - val_top5acc: 0.9483 - lr: 3.4549e-04\n",
      "learning rate: 3.29e-04, weight decay: 1.64e-05\n",
      "Epoch 66/100\n",
      "1050/1050 [==============================] - 155s 147ms/step - loss: 1.9954 - top1acc: 0.7948 - top5acc: 0.9294 - val_loss: 1.8757 - val_top1acc: 0.8474 - val_top5acc: 0.9473 - lr: 3.2899e-04\n",
      "learning rate: 3.13e-04, weight decay: 1.56e-05\n",
      "Epoch 67/100\n",
      "1050/1050 [==============================] - 153s 146ms/step - loss: 1.9923 - top1acc: 0.7961 - top5acc: 0.9300 - val_loss: 1.8731 - val_top1acc: 0.8476 - val_top5acc: 0.9483 - lr: 3.1270e-04\n",
      "learning rate: 2.97e-04, weight decay: 1.48e-05\n",
      "Epoch 68/100\n",
      "1050/1050 [==============================] - 152s 145ms/step - loss: 1.9884 - top1acc: 0.7977 - top5acc: 0.9309 - val_loss: 1.8709 - val_top1acc: 0.8497 - val_top5acc: 0.9487 - lr: 2.9663e-04\n",
      "learning rate: 2.81e-04, weight decay: 1.40e-05\n",
      "Epoch 69/100\n",
      "1050/1050 [==============================] - 157s 149ms/step - loss: 1.9852 - top1acc: 0.7990 - top5acc: 0.9314 - val_loss: 1.8669 - val_top1acc: 0.8512 - val_top5acc: 0.9492 - lr: 2.8081e-04\n",
      "learning rate: 2.65e-04, weight decay: 1.33e-05\n",
      "Epoch 70/100\n",
      "1050/1050 [==============================] - 152s 144ms/step - loss: 1.9819 - top1acc: 0.8008 - top5acc: 0.9317 - val_loss: 1.8656 - val_top1acc: 0.8522 - val_top5acc: 0.9487 - lr: 2.6526e-04\n",
      "learning rate: 2.50e-04, weight decay: 1.25e-05\n",
      "Epoch 71/100\n",
      "1050/1050 [==============================] - 152s 145ms/step - loss: 1.9788 - top1acc: 0.8022 - top5acc: 0.9322 - val_loss: 1.8624 - val_top1acc: 0.8516 - val_top5acc: 0.9508 - lr: 2.5000e-04\n",
      "learning rate: 2.35e-04, weight decay: 1.18e-05\n",
      "Epoch 72/100\n",
      "1050/1050 [==============================] - 152s 145ms/step - loss: 1.9757 - top1acc: 0.8035 - top5acc: 0.9330 - val_loss: 1.8623 - val_top1acc: 0.8535 - val_top5acc: 0.9491 - lr: 2.3504e-04\n",
      "learning rate: 2.20e-04, weight decay: 1.10e-05\n",
      "Epoch 73/100\n",
      "1050/1050 [==============================] - 153s 145ms/step - loss: 1.9724 - top1acc: 0.8049 - top5acc: 0.9337 - val_loss: 1.8597 - val_top1acc: 0.8546 - val_top5acc: 0.9513 - lr: 2.2040e-04\n",
      "learning rate: 2.06e-04, weight decay: 1.03e-05\n",
      "Epoch 74/100\n",
      "1050/1050 [==============================] - 153s 145ms/step - loss: 1.9699 - top1acc: 0.8062 - top5acc: 0.9340 - val_loss: 1.8567 - val_top1acc: 0.8548 - val_top5acc: 0.9510 - lr: 2.0611e-04\n",
      "learning rate: 1.92e-04, weight decay: 9.61e-06\n",
      "Epoch 75/100\n",
      "1050/1050 [==============================] - 158s 150ms/step - loss: 1.9662 - top1acc: 0.8078 - top5acc: 0.9349 - val_loss: 1.8538 - val_top1acc: 0.8575 - val_top5acc: 0.9514 - lr: 1.9217e-04\n",
      "learning rate: 1.79e-04, weight decay: 8.93e-06\n",
      "Epoch 76/100\n",
      "1050/1050 [==============================] - 153s 146ms/step - loss: 1.9632 - top1acc: 0.8095 - top5acc: 0.9351 - val_loss: 1.8530 - val_top1acc: 0.8562 - val_top5acc: 0.9519 - lr: 1.7861e-04\n",
      "learning rate: 1.65e-04, weight decay: 8.27e-06\n",
      "Epoch 77/100\n",
      "1050/1050 [==============================] - 155s 148ms/step - loss: 1.9612 - top1acc: 0.8101 - top5acc: 0.9353 - val_loss: 1.8505 - val_top1acc: 0.8565 - val_top5acc: 0.9526 - lr: 1.6543e-04\n",
      "learning rate: 1.53e-04, weight decay: 7.63e-06\n",
      "Epoch 78/100\n",
      "1050/1050 [==============================] - 156s 148ms/step - loss: 1.9584 - top1acc: 0.8114 - top5acc: 0.9359 - val_loss: 1.8489 - val_top1acc: 0.8573 - val_top5acc: 0.9522 - lr: 1.5267e-04\n",
      "learning rate: 1.40e-04, weight decay: 7.02e-06\n",
      "Epoch 79/100\n",
      "1050/1050 [==============================] - 154s 146ms/step - loss: 1.9559 - top1acc: 0.8125 - top5acc: 0.9361 - val_loss: 1.8465 - val_top1acc: 0.8599 - val_top5acc: 0.9533 - lr: 1.4033e-04\n",
      "learning rate: 1.28e-04, weight decay: 6.42e-06\n",
      "Epoch 80/100\n",
      "1050/1050 [==============================] - 150s 143ms/step - loss: 1.9535 - top1acc: 0.8139 - top5acc: 0.9367 - val_loss: 1.8456 - val_top1acc: 0.8595 - val_top5acc: 0.9532 - lr: 1.2843e-04\n",
      "learning rate: 1.17e-04, weight decay: 5.85e-06\n",
      "Epoch 81/100\n",
      "1050/1050 [==============================] - 151s 144ms/step - loss: 1.9511 - top1acc: 0.8148 - top5acc: 0.9374 - val_loss: 1.8445 - val_top1acc: 0.8605 - val_top5acc: 0.9528 - lr: 1.1698e-04\n",
      "learning rate: 1.06e-04, weight decay: 5.30e-06\n",
      "Epoch 82/100\n",
      "1050/1050 [==============================] - 151s 144ms/step - loss: 1.9490 - top1acc: 0.8160 - top5acc: 0.9377 - val_loss: 1.8426 - val_top1acc: 0.8611 - val_top5acc: 0.9528 - lr: 1.0599e-04\n",
      "learning rate: 9.55e-05, weight decay: 4.77e-06\n",
      "Epoch 83/100\n",
      "1050/1050 [==============================] - 152s 144ms/step - loss: 1.9473 - top1acc: 0.8166 - top5acc: 0.9380 - val_loss: 1.8409 - val_top1acc: 0.8627 - val_top5acc: 0.9539 - lr: 9.5492e-05\n",
      "learning rate: 8.55e-05, weight decay: 4.27e-06\n",
      "Epoch 84/100\n",
      "1050/1050 [==============================] - 151s 144ms/step - loss: 1.9450 - top1acc: 0.8178 - top5acc: 0.9383 - val_loss: 1.8406 - val_top1acc: 0.8632 - val_top5acc: 0.9540 - lr: 8.5481e-05\n",
      "learning rate: 7.60e-05, weight decay: 3.80e-06\n",
      "Epoch 85/100\n",
      "1050/1050 [==============================] - 158s 151ms/step - loss: 1.9435 - top1acc: 0.8185 - top5acc: 0.9384 - val_loss: 1.8387 - val_top1acc: 0.8635 - val_top5acc: 0.9539 - lr: 7.5976e-05\n",
      "learning rate: 6.70e-05, weight decay: 3.35e-06\n",
      "Epoch 86/100\n",
      "1050/1050 [==============================] - 156s 149ms/step - loss: 1.9418 - top1acc: 0.8191 - top5acc: 0.9387 - val_loss: 1.8374 - val_top1acc: 0.8650 - val_top5acc: 0.9538 - lr: 6.6987e-05\n",
      "learning rate: 5.85e-05, weight decay: 2.93e-06\n",
      "Epoch 87/100\n",
      "1050/1050 [==============================] - 154s 146ms/step - loss: 1.9400 - top1acc: 0.8200 - top5acc: 0.9393 - val_loss: 1.8370 - val_top1acc: 0.8648 - val_top5acc: 0.9542 - lr: 5.8526e-05\n",
      "learning rate: 5.06e-05, weight decay: 2.53e-06\n",
      "Epoch 88/100\n",
      "1050/1050 [==============================] - 153s 146ms/step - loss: 1.9388 - top1acc: 0.8209 - top5acc: 0.9393 - val_loss: 1.8362 - val_top1acc: 0.8645 - val_top5acc: 0.9542 - lr: 5.0603e-05\n",
      "learning rate: 4.32e-05, weight decay: 2.16e-06\n",
      "Epoch 89/100\n",
      "1050/1050 [==============================] - 153s 145ms/step - loss: 1.9375 - top1acc: 0.8212 - top5acc: 0.9394 - val_loss: 1.8354 - val_top1acc: 0.8650 - val_top5acc: 0.9549 - lr: 4.3227e-05\n",
      "learning rate: 3.64e-05, weight decay: 1.82e-06\n",
      "Epoch 90/100\n",
      "1050/1050 [==============================] - 154s 147ms/step - loss: 1.9362 - top1acc: 0.8218 - top5acc: 0.9397 - val_loss: 1.8348 - val_top1acc: 0.8651 - val_top5acc: 0.9554 - lr: 3.6408e-05\n",
      "learning rate: 3.02e-05, weight decay: 1.51e-06\n",
      "Epoch 91/100\n",
      "1050/1050 [==============================] - 155s 148ms/step - loss: 1.9352 - top1acc: 0.8222 - top5acc: 0.9399 - val_loss: 1.8339 - val_top1acc: 0.8655 - val_top5acc: 0.9552 - lr: 3.0154e-05\n",
      "learning rate: 2.45e-05, weight decay: 1.22e-06\n",
      "Epoch 92/100\n",
      "1050/1050 [==============================] - 156s 148ms/step - loss: 1.9339 - top1acc: 0.8227 - top5acc: 0.9401 - val_loss: 1.8337 - val_top1acc: 0.8659 - val_top5acc: 0.9547 - lr: 2.4472e-05\n",
      "learning rate: 1.94e-05, weight decay: 9.68e-07\n",
      "Epoch 93/100\n",
      "1050/1050 [==============================] - 161s 153ms/step - loss: 1.9337 - top1acc: 0.8228 - top5acc: 0.9403 - val_loss: 1.8336 - val_top1acc: 0.8660 - val_top5acc: 0.9550 - lr: 1.9369e-05\n",
      "learning rate: 1.49e-05, weight decay: 7.43e-07\n",
      "Epoch 94/100\n",
      "1050/1050 [==============================] - 159s 151ms/step - loss: 1.9331 - top1acc: 0.8234 - top5acc: 0.9403 - val_loss: 1.8330 - val_top1acc: 0.8654 - val_top5acc: 0.9553 - lr: 1.4852e-05\n",
      "learning rate: 1.09e-05, weight decay: 5.46e-07\n",
      "Epoch 95/100\n",
      "1050/1050 [==============================] - 155s 148ms/step - loss: 1.9319 - top1acc: 0.8240 - top5acc: 0.9405 - val_loss: 1.8331 - val_top1acc: 0.8656 - val_top5acc: 0.9552 - lr: 1.0926e-05\n",
      "learning rate: 7.60e-06, weight decay: 3.80e-07\n",
      "Epoch 96/100\n",
      "1050/1050 [==============================] - 155s 148ms/step - loss: 1.9319 - top1acc: 0.8239 - top5acc: 0.9403 - val_loss: 1.8327 - val_top1acc: 0.8660 - val_top5acc: 0.9553 - lr: 7.5961e-06\n",
      "learning rate: 4.87e-06, weight decay: 2.43e-07\n",
      "Epoch 97/100\n",
      "1050/1050 [==============================] - 154s 147ms/step - loss: 1.9311 - top1acc: 0.8240 - top5acc: 0.9405 - val_loss: 1.8327 - val_top1acc: 0.8669 - val_top5acc: 0.9553 - lr: 4.8660e-06\n",
      "learning rate: 2.74e-06, weight decay: 1.37e-07\n",
      "Epoch 98/100\n",
      "1050/1050 [==============================] - 159s 152ms/step - loss: 1.9310 - top1acc: 0.8242 - top5acc: 0.9406 - val_loss: 1.8326 - val_top1acc: 0.8669 - val_top5acc: 0.9552 - lr: 2.7391e-06\n",
      "learning rate: 1.22e-06, weight decay: 6.09e-08\n",
      "Epoch 99/100\n",
      "1050/1050 [==============================] - 157s 149ms/step - loss: 1.9304 - top1acc: 0.8247 - top5acc: 0.9406 - val_loss: 1.8326 - val_top1acc: 0.8666 - val_top5acc: 0.9554 - lr: 1.2180e-06\n",
      "learning rate: 3.05e-07, weight decay: 1.52e-08\n",
      "Epoch 100/100\n",
      "1050/1050 [==============================] - 155s 147ms/step - loss: 1.9305 - top1acc: 0.8245 - top5acc: 0.9408 - val_loss: 1.8326 - val_top1acc: 0.8666 - val_top5acc: 0.9553 - lr: 3.0459e-07\n"
     ]
    }
   ],
   "source": [
    "tf.keras.backend.clear_session()\n",
    "\n",
    "# Get new fresh model\n",
    "epochs = 100\n",
    "if DEBUG:\n",
    "    epochs = 1\n",
    "# Actual Training\n",
    "history = model.fit(\n",
    "        x=train_ds,\n",
    "        epochs=epochs,\n",
    "        validation_data=valid_ds,\n",
    "        callbacks=[lr_callback, WeightDecayCallback()]\n",
    ")"
   ]
  },
  {
   "cell_type": "code",
   "execution_count": 40,
   "id": "8badaa8d",
   "metadata": {
    "execution": {
     "iopub.execute_input": "2023-08-14T05:54:38.706866Z",
     "iopub.status.busy": "2023-08-14T05:54:38.706434Z",
     "iopub.status.idle": "2023-08-14T05:54:38.869210Z",
     "shell.execute_reply": "2023-08-14T05:54:38.868223Z"
    },
    "papermill": {
     "duration": 8.992378,
     "end_time": "2023-08-14T05:54:38.871666",
     "exception": false,
     "start_time": "2023-08-14T05:54:29.879288",
     "status": "completed"
    },
    "tags": []
   },
   "outputs": [],
   "source": [
    "model.save_weights('model.h5')"
   ]
  },
  {
   "cell_type": "code",
   "execution_count": 41,
   "id": "ffd0cc0e",
   "metadata": {
    "execution": {
     "iopub.execute_input": "2023-08-14T05:54:56.796606Z",
     "iopub.status.busy": "2023-08-14T05:54:56.796228Z",
     "iopub.status.idle": "2023-08-14T05:54:59.727135Z",
     "shell.execute_reply": "2023-08-14T05:54:59.726091Z"
    },
    "papermill": {
     "duration": 11.98258,
     "end_time": "2023-08-14T05:54:59.729337",
     "exception": false,
     "start_time": "2023-08-14T05:54:47.746757",
     "status": "completed"
    },
    "tags": []
   },
   "outputs": [
    {
     "name": "stdout",
     "output_type": "stream",
     "text": [
      "15/15 [==============================] - 2s 86ms/step - loss: 1.8326 - top1acc: 0.8666 - top5acc: 0.9553\n"
     ]
    },
    {
     "data": {
      "text/plain": [
       "[1.832646369934082, 0.8666238784790039, 0.9553274512290955]"
      ]
     },
     "execution_count": 41,
     "metadata": {},
     "output_type": "execute_result"
    }
   ],
   "source": [
    "model.evaluate(\n",
    "    valid_ds,\n",
    "    batch_size=batch_size,\n",
    ")"
   ]
  },
  {
   "cell_type": "code",
   "execution_count": 42,
   "id": "dd6069ee",
   "metadata": {
    "execution": {
     "iopub.execute_input": "2023-08-14T05:55:17.154834Z",
     "iopub.status.busy": "2023-08-14T05:55:17.154418Z",
     "iopub.status.idle": "2023-08-14T05:55:17.160059Z",
     "shell.execute_reply": "2023-08-14T05:55:17.159088Z"
    },
    "papermill": {
     "duration": 8.691267,
     "end_time": "2023-08-14T05:55:17.162328",
     "exception": false,
     "start_time": "2023-08-14T05:55:08.471061",
     "status": "completed"
    },
    "tags": []
   },
   "outputs": [],
   "source": [
    "def outputs2phrase(outputs):\n",
    "    if outputs.ndim == 2:\n",
    "        outputs = np.argmax(outputs, axis=1)\n",
    "    \n",
    "    return ''.join([num_to_char.get(s, '') for s in outputs])"
   ]
  },
  {
   "cell_type": "code",
   "execution_count": 43,
   "id": "abf2592b",
   "metadata": {
    "execution": {
     "iopub.execute_input": "2023-08-14T05:55:35.222510Z",
     "iopub.status.busy": "2023-08-14T05:55:35.222147Z",
     "iopub.status.idle": "2023-08-14T05:55:35.232594Z",
     "shell.execute_reply": "2023-08-14T05:55:35.231692Z"
    },
    "papermill": {
     "duration": 9.279599,
     "end_time": "2023-08-14T05:55:35.234609",
     "exception": false,
     "start_time": "2023-08-14T05:55:25.955010",
     "status": "completed"
    },
    "tags": []
   },
   "outputs": [],
   "source": [
    "@tf.function(jit_compile=True)\n",
    "def predict_phrase(frames):\n",
    "    # Add Batch Dimension\n",
    "    frames = tf.expand_dims(frames, axis=0)\n",
    "    # Start Phrase\n",
    "    phrase = tf.fill([1,max_tgt_length], char_to_num[PAD])\n",
    "\n",
    "    for idx in tf.range(max_tgt_length):\n",
    "        # Cast phrase to int8\n",
    "        phrase = tf.cast(phrase, tf.int8)\n",
    "        # Predict Next Token\n",
    "        outputs = model({\n",
    "            'frames': frames,\n",
    "            'phrase': phrase,\n",
    "        })\n",
    "\n",
    "        # Add predicted token to input phrase\n",
    "        phrase = tf.cast(phrase, tf.int32)\n",
    "        phrase = tf.where(\n",
    "            tf.range(max_tgt_length) < idx + 1,\n",
    "            tf.argmax(outputs, axis=2, output_type=tf.int32),\n",
    "            phrase,\n",
    "        )\n",
    "\n",
    "    # Squeeze outputs\n",
    "    outputs = tf.squeeze(phrase, axis=0)\n",
    "    outputs = tf.one_hot(outputs, vocab_size)\n",
    "\n",
    "    # Return a dictionary with the output tensor\n",
    "    return outputs"
   ]
  },
  {
   "cell_type": "code",
   "execution_count": 44,
   "id": "5cbd9968",
   "metadata": {
    "execution": {
     "iopub.execute_input": "2023-08-14T05:55:52.505528Z",
     "iopub.status.busy": "2023-08-14T05:55:52.505143Z",
     "iopub.status.idle": "2023-08-14T05:55:58.275672Z",
     "shell.execute_reply": "2023-08-14T05:55:58.274564Z"
    },
    "papermill": {
     "duration": 14.373991,
     "end_time": "2023-08-14T05:55:58.278120",
     "exception": false,
     "start_time": "2023-08-14T05:55:43.904129",
     "status": "completed"
    },
    "tags": []
   },
   "outputs": [
    {
     "name": "stdout",
     "output_type": "stream",
     "text": [
      "demo_raw_data shape: (123, 164), dtype: float32\n",
      "demo_output shape: (32, 62), dtype: float32\n",
      "demo_outputs phrase decoded: 3 creekhouse>PPPPPPPPPPPPPPPPPPP\n",
      "phrase true: 3 creekhouse\n"
     ]
    }
   ],
   "source": [
    "class TFLiteModel(tf.Module):\n",
    "    def __init__(self, model):\n",
    "        super(TFLiteModel, self).__init__()\n",
    "\n",
    "        # Load the feature generation and main models\n",
    "        self.preprocess_layer = preprocess_layer\n",
    "        self.model = model\n",
    "    \n",
    "    @tf.function(jit_compile=True)\n",
    "    def encoder(self, x, frames_inp):\n",
    "        x = self.model.get_layer('embedding')(x)\n",
    "        x = self.model.get_layer('encoder')(x, frames_inp)\n",
    "        \n",
    "        return x\n",
    "        \n",
    "    @tf.function(jit_compile=True)\n",
    "    def decoder(self, x, phrase_inp, frames_inp):\n",
    "        x = self.model.get_layer('decoder')(x, phrase_inp, frames_inp)\n",
    "        x = self.model.get_layer('classifier')(x)\n",
    "        \n",
    "        return x\n",
    "    \n",
    "    @tf.function(input_signature=[tf.TensorSpec(shape=[None, ncols], dtype=tf.float32, name='inputs')])\n",
    "    def __call__(self, inputs):\n",
    "        # Number Of Input Frames\n",
    "        N_INPUT_FRAMES = tf.shape(inputs)[0]\n",
    "        # Preprocess Data\n",
    "        frames_inp = self.preprocess_layer(inputs)        \n",
    "        # Add Batch Dimension\n",
    "        frames_inp = tf.expand_dims(frames_inp, axis=0)\n",
    "        # Get Encoding\n",
    "        encoding = self.encoder(frames_inp, frames_inp)\n",
    "        # Make Prediction\n",
    "        phrase = tf.fill([1,max_tgt_length], char_to_num[PAD])\n",
    "        # Predict One Token At A Time\n",
    "        stop = False\n",
    "        \n",
    "        for idx in tf.range(max_tgt_length):\n",
    "            # Cast phrase to int8\n",
    "            phrase = tf.cast(phrase, tf.int32)\n",
    "            # If EOS token is predicted, stop predicting\n",
    "            outputs = tf.cond(\n",
    "                stop,\n",
    "                lambda: tf.one_hot(tf.cast(phrase, tf.int32), vocab_size),\n",
    "                lambda: self.decoder(encoding, phrase, frames_inp)\n",
    "            )\n",
    "            # Add predicted token to input phrase\n",
    "            phrase = tf.cast(phrase, tf.int32)\n",
    "            # Replcae PAD token with predicted token up to idx\n",
    "            phrase = tf.where(\n",
    "                tf.range(max_tgt_length) < idx + 1,\n",
    "                tf.argmax(outputs, axis=2, output_type=tf.int32),\n",
    "                phrase,\n",
    "            )\n",
    "            # Predicted Token\n",
    "            predicted_token = phrase[0,idx]\n",
    "            # If EOS (End Of Sentence) token is predicted stop\n",
    "            if not stop:\n",
    "                stop = predicted_token == char_to_num[EOS]\n",
    "            \n",
    "        # Squeeze outputs\n",
    "        outputs = tf.squeeze(phrase, axis=0)\n",
    "        outputs = tf.one_hot(outputs, vocab_size)\n",
    "            \n",
    "        # Return a dictionary with the output tensor\n",
    "        return {'outputs': outputs }\n",
    "\n",
    "# Define TF Lite Model\n",
    "tflite_keras_model = TFLiteModel(model)\n",
    "\n",
    "# Sanity Check\n",
    "# demo_sequence_id = 1816796431\n",
    "train_sequence_id = train_csv.set_index('sequence_id')\n",
    "demo_sequence_id = sample_pq.index.unique()[0]\n",
    "demo_raw_data = sample_pq.loc[demo_sequence_id, selected_columns_names].values\n",
    "demo_phrase_true = train_sequence_id.loc[demo_sequence_id, 'phrase']\n",
    "print(f'demo_raw_data shape: {demo_raw_data.shape}, dtype: {demo_raw_data.dtype}')\n",
    "demo_output = tflite_keras_model(demo_raw_data)['outputs'].numpy()\n",
    "print(f'demo_output shape: {demo_output.shape}, dtype: {demo_output.dtype}')\n",
    "print(f'demo_outputs phrase decoded: {outputs2phrase(demo_output)}')\n",
    "print(f'phrase true: {demo_phrase_true}')"
   ]
  },
  {
   "cell_type": "code",
   "execution_count": 45,
   "id": "123a5d5b",
   "metadata": {
    "execution": {
     "iopub.execute_input": "2023-08-14T05:56:16.232156Z",
     "iopub.status.busy": "2023-08-14T05:56:16.231774Z",
     "iopub.status.idle": "2023-08-14T05:57:22.927217Z",
     "shell.execute_reply": "2023-08-14T05:57:22.926078Z"
    },
    "papermill": {
     "duration": 75.311948,
     "end_time": "2023-08-14T05:57:22.929883",
     "exception": false,
     "start_time": "2023-08-14T05:56:07.617935",
     "status": "completed"
    },
    "tags": []
   },
   "outputs": [],
   "source": [
    "# Create Model Converter\n",
    "keras_model_converter = tf.lite.TFLiteConverter.from_keras_model(tflite_keras_model)\n",
    "# Convert Model\n",
    "tflite_model = keras_model_converter.convert()\n",
    "# Write Model\n",
    "with open('/kaggle/working/model.tflite', 'wb') as f:\n",
    "    f.write(tflite_model)"
   ]
  },
  {
   "cell_type": "code",
   "execution_count": 46,
   "id": "eeea4df2",
   "metadata": {
    "execution": {
     "iopub.execute_input": "2023-08-14T05:57:40.898058Z",
     "iopub.status.busy": "2023-08-14T05:57:40.897662Z",
     "iopub.status.idle": "2023-08-14T05:57:40.904326Z",
     "shell.execute_reply": "2023-08-14T05:57:40.903441Z"
    },
    "papermill": {
     "duration": 9.252547,
     "end_time": "2023-08-14T05:57:40.906407",
     "exception": false,
     "start_time": "2023-08-14T05:57:31.653860",
     "status": "completed"
    },
    "tags": []
   },
   "outputs": [],
   "source": [
    "with open('inference_args.json', 'w') as f:\n",
    "     json.dump({ 'selected_columns': selected_columns_names}, f)"
   ]
  },
  {
   "cell_type": "code",
   "execution_count": 47,
   "id": "f33115ba",
   "metadata": {
    "execution": {
     "iopub.execute_input": "2023-08-14T05:57:58.588106Z",
     "iopub.status.busy": "2023-08-14T05:57:58.587720Z",
     "iopub.status.idle": "2023-08-14T05:58:00.777912Z",
     "shell.execute_reply": "2023-08-14T05:58:00.776714Z"
    },
    "papermill": {
     "duration": 11.085317,
     "end_time": "2023-08-14T05:58:00.780143",
     "exception": false,
     "start_time": "2023-08-14T05:57:49.694826",
     "status": "completed"
    },
    "tags": []
   },
   "outputs": [
    {
     "name": "stdout",
     "output_type": "stream",
     "text": [
      "  adding: kaggle/working/model.tflite (deflated 9%)\r\n",
      "  adding: kaggle/working/inference_args.json (deflated 83%)\r\n"
     ]
    }
   ],
   "source": [
    "!zip submission.zip /kaggle/working/model.tflite /kaggle/working/inference_args.json"
   ]
  },
  {
   "cell_type": "code",
   "execution_count": null,
   "id": "f8cde188",
   "metadata": {
    "papermill": {
     "duration": 8.780542,
     "end_time": "2023-08-14T05:58:18.941962",
     "exception": false,
     "start_time": "2023-08-14T05:58:10.161420",
     "status": "completed"
    },
    "tags": []
   },
   "outputs": [],
   "source": []
  }
 ],
 "metadata": {
  "kernelspec": {
   "display_name": "Python 3",
   "language": "python",
   "name": "python3"
  },
  "language_info": {
   "codemirror_mode": {
    "name": "ipython",
    "version": 3
   },
   "file_extension": ".py",
   "mimetype": "text/x-python",
   "name": "python",
   "nbconvert_exporter": "python",
   "pygments_lexer": "ipython3",
   "version": "3.10.12"
  },
  "papermill": {
   "default_parameters": {},
   "duration": 17983.934751,
   "end_time": "2023-08-14T05:58:30.686346",
   "environment_variables": {},
   "exception": null,
   "input_path": "__notebook__.ipynb",
   "output_path": "__notebook__.ipynb",
   "parameters": {},
   "start_time": "2023-08-14T00:58:46.751595",
   "version": "2.4.0"
  }
 },
 "nbformat": 4,
 "nbformat_minor": 5
}
